{
 "cells": [
  {
   "cell_type": "markdown",
   "metadata": {},
   "source": [
    "- 總共有一千筆訓練資料、40個 features，二元分類問題，練習 features scaling、建模、調參數等步驟\n",
    "- 每天最多上傳 10 次結果\n",
    "- 請在 private / public leaderboard 上取得 0.7 以上的準確率\n",
    "- 可多參考別人的 Kernel，學習別人的寫法與思路，完成自己的 Kaggle 競賽"
   ]
  },
  {
   "cell_type": "markdown",
   "metadata": {},
   "source": [
    "- This is a binary classification task, You are evaluated on classification accuracy (the percentage of labels you predict correctly).  The training set has 1000 samples and the testing set has 9000.  Your prediction should be a 9000 x 1 vector of ones or zeros. You also need an Id column (1 to 9000) and should include a header. The format looks like this:\n",
    "\n",
    "Id,Solution\n",
    "1,0\n",
    "2,1\n",
    "3,1\n",
    "...\n",
    "9000,0"
   ]
  },
  {
   "cell_type": "markdown",
   "metadata": {},
   "source": [
    "- 這是一個二元分類問題\n",
    "    - 因此要挑選分類問題的模型，如Logsitic Model、隨機森林、梯度提升機等等。\n",
    "\n",
    "- 比賽以正確率評斷，因此模型檢測也用此評價。"
   ]
  },
  {
   "cell_type": "code",
   "execution_count": 1,
   "metadata": {},
   "outputs": [],
   "source": [
    "import pandas as pd\n",
    "from sklearn import metrics\n",
    "from sklearn.model_selection import train_test_split\n",
    "from sklearn.ensemble import GradientBoostingClassifier, RandomForestClassifier\n",
    "from sklearn.linear_model import LogisticRegression"
   ]
  },
  {
   "cell_type": "code",
   "execution_count": 2,
   "metadata": {},
   "outputs": [],
   "source": [
    "# read and observe data\n",
    "url = './day48_kaggle/'\n",
    "data_train_x = pd.read_csv(url + 'train.csv')\n",
    "data_train_y = pd.read_csv(url + 'trainLabels.csv')\n",
    "test = pd.read_csv(url + 'test.csv')\n",
    "# data_train.describe()\n",
    "# print(data_train_x.head())\n",
    "# print(data_train_y.head())\n",
    "# print(data_train_y.info())\n",
    "# print(data_train_y.shape)"
   ]
  },
  {
   "cell_type": "code",
   "execution_count": 4,
   "metadata": {},
   "outputs": [
    {
     "name": "stdout",
     "output_type": "stream",
     "text": [
      "score: 0.8\n"
     ]
    },
    {
     "name": "stderr",
     "output_type": "stream",
     "text": [
      "C:\\Users\\aband\\AppData\\Roaming\\Python\\Python37\\site-packages\\sklearn\\linear_model\\logistic.py:432: FutureWarning: Default solver will be changed to 'lbfgs' in 0.22. Specify a solver to silence this warning.\n",
      "  FutureWarning)\n",
      "C:\\Users\\aband\\AppData\\Roaming\\Python\\Python37\\site-packages\\sklearn\\utils\\validation.py:724: DataConversionWarning: A column-vector y was passed when a 1d array was expected. Please change the shape of y to (n_samples, ), for example using ravel().\n",
      "  y = column_or_1d(y, warn=True)\n"
     ]
    }
   ],
   "source": [
    "# logistic\n",
    "\n",
    "# read\n",
    "url = './day48_kaggle/'\n",
    "data_train_x = pd.read_csv(url + 'train.csv')\n",
    "data_train_y = pd.read_csv(url + 'trainLabels.csv')\n",
    "data_test_x = pd.read_csv(url + 'test.csv')\n",
    "\n",
    "# split\n",
    "x_train, x_test, y_train, y_test = train_test_split(data_train_x, data_train_y, test_size=0.2, random_state=18)\n",
    "\n",
    "# model\n",
    "log = LogisticRegression().fit(x_train, y_train)\n",
    "\n",
    "# predict\n",
    "y_pred = log.predict(x_test)\n",
    "log_pred = log.predict_proba(test)[:, 1]\n",
    "\n",
    "# 評估\n",
    "print(f'score: {metrics.accuracy_score(y_pred, y_test)}')"
   ]
  },
  {
   "cell_type": "code",
   "execution_count": 5,
   "metadata": {},
   "outputs": [
    {
     "name": "stdout",
     "output_type": "stream",
     "text": [
      "score: 0.79\n"
     ]
    },
    {
     "name": "stderr",
     "output_type": "stream",
     "text": [
      "C:\\Users\\aband\\AppData\\Roaming\\Python\\Python37\\site-packages\\sklearn\\ensemble\\forest.py:245: FutureWarning: The default value of n_estimators will change from 10 in version 0.20 to 100 in 0.22.\n",
      "  \"10 in version 0.20 to 100 in 0.22.\", FutureWarning)\n",
      "C:\\Users\\aband\\Anaconda3\\lib\\site-packages\\ipykernel_launcher.py:13: DataConversionWarning: A column-vector y was passed when a 1d array was expected. Please change the shape of y to (n_samples,), for example using ravel().\n",
      "  del sys.path[0]\n"
     ]
    }
   ],
   "source": [
    "# RandomForestClassifier\n",
    "\n",
    "# read\n",
    "url = './day48_kaggle/'\n",
    "data_train_x = pd.read_csv(url + 'train.csv')\n",
    "data_train_y = pd.read_csv(url + 'trainLabels.csv')\n",
    "data_test_x = pd.read_csv(url + 'test.csv')\n",
    "\n",
    "# split\n",
    "x_train, x_test, y_train, y_test = train_test_split(data_train_x, data_train_y, test_size=0.2, random_state=18)\n",
    "\n",
    "# model\n",
    "rfc = RandomForestClassifier().fit(x_train, y_train)\n",
    "\n",
    "# predict\n",
    "y_pred = rfc.predict(x_test)\n",
    "rfc_pred = rfc.predict_proba(test)[:, 1]\n",
    "\n",
    "# 評估\n",
    "print(f'score: {metrics.accuracy_score(y_pred, y_test)}')"
   ]
  },
  {
   "cell_type": "code",
   "execution_count": 6,
   "metadata": {},
   "outputs": [
    {
     "name": "stderr",
     "output_type": "stream",
     "text": [
      "C:\\Users\\aband\\AppData\\Roaming\\Python\\Python37\\site-packages\\sklearn\\ensemble\\gradient_boosting.py:1450: DataConversionWarning: A column-vector y was passed when a 1d array was expected. Please change the shape of y to (n_samples, ), for example using ravel().\n",
      "  y = column_or_1d(y, warn=True)\n"
     ]
    },
    {
     "name": "stdout",
     "output_type": "stream",
     "text": [
      "score: 0.865\n"
     ]
    }
   ],
   "source": [
    "# GradientBoostingClassifier\n",
    "\n",
    "# read\n",
    "url = './day48_kaggle/'\n",
    "data_train_x = pd.read_csv(url + 'train.csv')\n",
    "data_train_y = pd.read_csv(url + 'trainLabels.csv')\n",
    "data_test_x = pd.read_csv(url + 'test.csv')\n",
    "\n",
    "# split\n",
    "x_train, x_test, y_train, y_test = train_test_split(data_train_x, data_train_y, test_size=0.2, random_state=18)\n",
    "\n",
    "# model\n",
    "gdbt = GradientBoostingClassifier().fit(x_train, y_train)\n",
    "\n",
    "# predict\n",
    "y_pred = gdbt.predict(x_test)\n",
    "gdbt_pred = gdbt.predict_proba(test)[:, 1]\n",
    "\n",
    "# 評估\n",
    "print(f'score: {metrics.accuracy_score(y_pred, y_test)}')"
   ]
  },
  {
   "cell_type": "code",
   "execution_count": 8,
   "metadata": {},
   "outputs": [],
   "source": [
    "# 集成\n",
    "\n",
    "# 滿奇怪的，csv-test資料會少吃一筆，可能是因為沒有column names的關係\n",
    "# 我自己補了第一筆\n",
    "blending_pred = log_pred*0.3 + gdbt_pred*0.3 + rfc_pred*0.4\n",
    "sub = pd.DataFrame({'Id': [i for i in range(1, 9001)], 'Solution': blending_pred})\n",
    "sub['Solution'] = sub['Solution'].map(lambda x: 1 if x>0.5 else 0)\n",
    "sub.to_csv('scikit.csv', index=False)             "
   ]
  },
  {
   "cell_type": "code",
   "execution_count": null,
   "metadata": {},
   "outputs": [],
   "source": []
  }
 ],
 "metadata": {
  "kernelspec": {
   "display_name": "Python 3",
   "language": "python",
   "name": "python3"
  },
  "language_info": {
   "codemirror_mode": {
    "name": "ipython",
    "version": 3
   },
   "file_extension": ".py",
   "mimetype": "text/x-python",
   "name": "python",
   "nbconvert_exporter": "python",
   "pygments_lexer": "ipython3",
   "version": "3.7.3"
  }
 },
 "nbformat": 4,
 "nbformat_minor": 2
}
