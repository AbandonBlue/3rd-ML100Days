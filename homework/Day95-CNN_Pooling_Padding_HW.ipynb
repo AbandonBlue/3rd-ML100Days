{
  "nbformat": 4,
  "nbformat_minor": 0,
  "metadata": {
    "kernelspec": {
      "display_name": "Python 3",
      "language": "python",
      "name": "python3"
    },
    "language_info": {
      "codemirror_mode": {
        "name": "ipython",
        "version": 3
      },
      "file_extension": ".py",
      "mimetype": "text/x-python",
      "name": "python",
      "nbconvert_exporter": "python",
      "pygments_lexer": "ipython3",
      "version": "3.6.8"
    },
    "colab": {
      "name": "Day95-CNN_Pooling_Padding_HW.ipynb",
      "provenance": [],
      "collapsed_sections": []
    }
  },
  "cells": [
    {
      "cell_type": "markdown",
      "metadata": {
        "id": "6ZxcshFii7NK",
        "colab_type": "text"
      },
      "source": [
        "# 作業目標:\n",
        "    了解 Padding 的作法\n",
        "    \n",
        "    了解 Pooling 的作法"
      ]
    },
    {
      "cell_type": "markdown",
      "metadata": {
        "id": "EeIRWc0Zi7Nh",
        "colab_type": "text"
      },
      "source": [
        "# 作業重點:\n",
        "    (1) 調整Padding 的設定, 看 Pad 後的結果\n",
        "    \n",
        "    (2) 調整Pooling 的設定, 看 Poolin 後的結果"
      ]
    },
    {
      "cell_type": "code",
      "metadata": {
        "id": "d_ZZU2E1i7Np",
        "colab_type": "code",
        "colab": {}
      },
      "source": [
        "import numpy as np\n",
        "import h5py\n",
        "import matplotlib.pyplot as plt\n",
        "\n",
        "# 繪圖結果直接顯示在Jupyter cell 之內\n",
        "%matplotlib inline  \n",
        "plt.rcParams['figure.figsize'] = (5.0, 4.0) #  設定繪圖板的大小\n",
        "plt.rcParams['image.interpolation'] = 'nearest'\n",
        "plt.rcParams['image.cmap'] = 'gray'\n",
        "\n",
        "# autoreload。可以讓我們不退出IPython就動態修改代碼，在執行代碼前IPython會幫我們自動重載改動的模塊\n",
        "%load_ext autoreload\n",
        "%autoreload 2\n",
        "np.random.seed(1)"
      ],
      "execution_count": 0,
      "outputs": []
    },
    {
      "cell_type": "code",
      "metadata": {
        "id": "D4OSqjnii7N_",
        "colab_type": "code",
        "colab": {}
      },
      "source": [
        "# GRADED FUNCTION: zero_pad\n",
        "def zero_pad(X, pad):\n",
        "    \"\"\"\n",
        "    對image X 做 zero-padding. \n",
        "    參數定義如下:\n",
        "    X -- python numpy array, 呈現維度 (m, n_H, n_W, n_C), 代表一批 m 個圖像\n",
        "         n_H: 圖高, n_W: 圖寬, n_C: color channels 數\n",
        "    pad -- 整數, 加幾圈的 zero padding.\n",
        "    Returns:\n",
        "    X_pad -- image of shape (m, n_H + 2*pad, n_W + 2*pad, n_C) 做完zero-padding 的結果\n",
        "    \"\"\"\n",
        "    \n",
        "    X_pad = np.pad(X, ((0, 0), (pad, pad), (pad, pad), (0, 0)), 'constant', constant_values=(0, 0))\n",
        "  \n",
        "    return X_pad"
      ],
      "execution_count": 0,
      "outputs": []
    },
    {
      "cell_type": "code",
      "metadata": {
        "id": "8_2m5paui7OR",
        "colab_type": "code",
        "colab": {
          "base_uri": "https://localhost:8080/",
          "height": 480
        },
        "outputId": "9bb5a3de-1380-4e72-9e5a-328c90d0c913"
      },
      "source": [
        "\n",
        "# 作業修改\n",
        "np.random.seed(1)\n",
        "\n",
        "x = np.random.randn(1000, 4, 4, 2)\n",
        "x_pad = zero_pad(x, 3)\n",
        "\n",
        "\n",
        "print (\"x.shape =\", x.shape)\n",
        "print (\"x_pad.shape =\", x_pad.shape)\n",
        "print (\"x[2,2] =\", x[2,2])\n",
        "print (\"x_pad[2,2] =\", x_pad[2,2])\n",
        "fig, axarr = plt.subplots(1, 2)\n",
        "axarr[0].set_title('x')\n",
        "axarr[0].imshow(x[0,:,:,0])\n",
        "axarr[1].set_title('x_pad')\n",
        "axarr[1].imshow(x_pad[0,:,:,0])"
      ],
      "execution_count": 6,
      "outputs": [
        {
          "output_type": "stream",
          "text": [
            "x.shape = (1000, 4, 4, 2)\n",
            "x_pad.shape = (1000, 10, 10, 2)\n",
            "x[2,2] = [[-0.22232814 -0.20075807]\n",
            " [ 0.18656139  0.41005165]\n",
            " [ 0.19829972  0.11900865]\n",
            " [-0.67066229  0.37756379]]\n",
            "x_pad[2,2] = [[0. 0.]\n",
            " [0. 0.]\n",
            " [0. 0.]\n",
            " [0. 0.]\n",
            " [0. 0.]\n",
            " [0. 0.]\n",
            " [0. 0.]\n",
            " [0. 0.]\n",
            " [0. 0.]\n",
            " [0. 0.]]\n"
          ],
          "name": "stdout"
        },
        {
          "output_type": "execute_result",
          "data": {
            "text/plain": [
              "<matplotlib.image.AxesImage at 0x7f848512bac8>"
            ]
          },
          "metadata": {
            "tags": []
          },
          "execution_count": 6
        },
        {
          "output_type": "display_data",
          "data": {
            "image/png": "[encoded data removed]",
            "text/plain": [
              "<Figure size 360x288 with 2 Axes>"
            ]
          },
          "metadata": {
            "tags": []
          }
        }
      ]
    },
    {
      "cell_type": "code",
      "metadata": {
        "id": "bnsuFLUui7Om",
        "colab_type": "code",
        "colab": {}
      },
      "source": [
        "# GRADED FUNCTION: pool_forward\n",
        "def pool_forward(A_prev, hparameters, mode = \"max\"):\n",
        "    \"\"\"\n",
        "    設計一個前行網路的池化層\n",
        "    參數定義如下:\n",
        "    A_prev -- 輸入的numpy 陣列, 維度 (m, n_H_prev, n_W_prev, n_C_prev)\n",
        "    hparameter 超參數 --  \"f\" and \"stride\" 所形成的python 字典\n",
        "    mode -- 池化的模式: \"max\" or \"average\"\n",
        "    \n",
        "    返回:\n",
        "        A -- 輸出的池化層, 維度為 (m, n_H, n_W, n_C) 的 numpy 陣列\n",
        "        cache -- 可以應用在 backward pass pooling layer 資料, 包含 input and hparameter\n",
        "    \"\"\"\n",
        "\n",
        "    # 檢索尺寸 from the input shape\n",
        "    (m, n_H_prev, n_W_prev, n_C_prev) = A_prev.shape\n",
        " \n",
        "    # 檢索超參數 from \"hparameters\"\n",
        "    f = hparameters[\"f\"]\n",
        "    stride = hparameters[\"stride\"]\n",
        "\n",
        "    # 定義輸出的dimensions\n",
        "    n_H = int(1 + (n_H_prev - f) / stride)\n",
        "    n_W = int(1 + (n_W_prev - f) / stride)\n",
        "    n_C = n_C_prev\n",
        "\n",
        "    # 初始化輸出的 matrix A\n",
        "    A = np.zeros((m, n_H, n_W, n_C))\n",
        "\n",
        "    ### 程式起始位置  ###\n",
        "    for i in range(m): # 訓練樣本的for 迴圈\n",
        "        for h in range(n_H): # 輸出樣本的for 迴圈, 針對vertical axis\n",
        "            for w in range(n_W): #  輸出樣本的for 迴圈, 針對 horizontal axis\n",
        "                for c in range (n_C): #  輸出樣本的for 迴圈, 針對channels\n",
        "\n",
        "                     # 找出特徵圖的寬度跟高度四個點\n",
        "                    vert_start = h * stride\n",
        "                    vert_end = h * stride+ f\n",
        "                    horiz_start = w * stride\n",
        "                    horiz_end = w * stride + f\n",
        "\n",
        "                    # 定義第i個訓練示例\n",
        "                    a_prev_slice = A_prev[i, vert_start:vert_end, horiz_start:horiz_end,c]\n",
        "\n",
        "                    # 計算輸入data 的池化結果. 使用 if statment 去做分類\n",
        "                    if mode == \"max\":\n",
        "                        A[i, h, w, c] = np.max(a_prev_slice)\n",
        "                    elif mode == \"average\":\n",
        "                        A[i, h, w, c] = np.mean(a_prev_slice)\n",
        "\n",
        "                        ### 程式結束  ###\n",
        "    \n",
        "    # 儲存輸入的特徵圖跟所設定的超參數, 可以用在 pool_backward()\n",
        "    cache = (A_prev, hparameters)\n",
        "    \n",
        "    # 確認輸出的資料維度\n",
        "    assert(A.shape == (m, n_H, n_W, n_C))\n",
        "    return A, cache"
      ],
      "execution_count": 0,
      "outputs": []
    },
    {
      "cell_type": "code",
      "metadata": {
        "id": "v3jI4jHKi7O2",
        "colab_type": "code",
        "colab": {
          "base_uri": "https://localhost:8080/",
          "height": 714
        },
        "outputId": "4f41c726-3e6c-4014-df1b-48c41c4cd9b3"
      },
      "source": [
        "\n",
        "# 作業修改\n",
        "np.random.seed(1)\n",
        "A_prev = np.random.randn(1000, 4, 4, 2)\n",
        "hparameters = {\"stride\": 3, \"f\": 3}\n",
        "\n",
        "\n",
        "A, cache = pool_forward(A_prev, hparameters)\n",
        "print(\"mode = max\")\n",
        "print(\"A =\", A)\n",
        "print()\n",
        "A, cache = pool_forward(A_prev, hparameters, mode = \"average\")\n",
        "print(\"mode = average\")\n",
        "print(\"A =\", A)"
      ],
      "execution_count": 13,
      "outputs": [
        {
          "output_type": "stream",
          "text": [
            "mode = max\n",
            "A = [[[[1.62434536 1.14472371]]]\n",
            "\n",
            "\n",
            " [[[0.30017032 1.6924546 ]]]\n",
            "\n",
            "\n",
            " [[[2.18557541 1.51981682]]]\n",
            "\n",
            "\n",
            " ...\n",
            "\n",
            "\n",
            " [[[1.83028099 1.44747491]]]\n",
            "\n",
            "\n",
            " [[[1.34289348 1.02446123]]]\n",
            "\n",
            "\n",
            " [[[1.46118395 2.80533267]]]]\n",
            "\n",
            "mode = average\n",
            "A = [[[[ 0.24327527 -0.6477943 ]]]\n",
            "\n",
            "\n",
            " [[[-0.45401158 -0.06000156]]]\n",
            "\n",
            "\n",
            " [[[ 0.4597471   0.0064437 ]]]\n",
            "\n",
            "\n",
            " ...\n",
            "\n",
            "\n",
            " [[[-0.23908928  0.46304833]]]\n",
            "\n",
            "\n",
            " [[[ 0.18992555 -0.11401638]]]\n",
            "\n",
            "\n",
            " [[[ 0.20406879 -0.2210383 ]]]]\n"
          ],
          "name": "stdout"
        }
      ]
    },
    {
      "cell_type": "code",
      "metadata": {
        "id": "8p53gm8Ii7PM",
        "colab_type": "code",
        "colab": {}
      },
      "source": [
        ""
      ],
      "execution_count": 0,
      "outputs": []
    }
  ]
}