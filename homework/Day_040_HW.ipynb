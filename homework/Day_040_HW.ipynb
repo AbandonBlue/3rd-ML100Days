{
 "cells": [
  {
   "cell_type": "markdown",
   "metadata": {},
   "source": [
    "## [作業重點]\n",
    "使用 Sklearn 中的 Lasso, Ridge 模型，來訓練各種資料集，務必了解送進去模型訓練的**資料型態**為何，也請了解模型中各項參數的意義。\n",
    "\n",
    "機器學習的模型非常多種，但要訓練的資料多半有固定的格式，確保你了解訓練資料的格式為何，這樣在應用新模型時，就能夠最快的上手開始訓練！"
   ]
  },
  {
   "cell_type": "markdown",
   "metadata": {},
   "source": [
    "## 練習時間\n",
    "試著使用 sklearn datasets 的其他資料集 (boston, ...)，來訓練自己的線性迴歸模型，並加上適當的正則化來觀察訓練情形。"
   ]
  },
  {
   "cell_type": "code",
   "execution_count": 1,
   "metadata": {},
   "outputs": [],
   "source": [
    "import numpy as np\n",
    "import matplotlib.pyplot as plot\n",
    "from sklearn.model_selection import train_test_split\n",
    "from sklearn import datasets, linear_model\n",
    "from sklearn.metrics import mean_squared_error, r2_score"
   ]
  },
  {
   "cell_type": "code",
   "execution_count": 2,
   "metadata": {},
   "outputs": [
    {
     "name": "stdout",
     "output_type": "stream",
     "text": [
      "係數:  [-1.19886262e-01  3.99134691e-02  2.12938504e-02  2.77565167e+00\n",
      " -1.85854960e+01  3.75579160e+00  4.57076424e-03 -1.47064595e+00\n",
      "  3.11878023e-01 -1.18109903e-02 -9.47556337e-01  1.03287982e-02\n",
      " -5.50096256e-01] \n",
      "\n",
      "MSE: 14.995852876582463\n"
     ]
    }
   ],
   "source": [
    "# 讀取\n",
    "boston = datasets.load_boston()\n",
    "\n",
    "# 切分\n",
    "x_train, x_test, y_train, y_test = train_test_split(boston.data, boston.target, test_size=0.1, random_state=42)\n",
    "\n",
    "# 建模\n",
    "reg = linear_model.LinearRegression().fit(x_train, y_train)\n",
    "\n",
    "# 係數\n",
    "print('係數: ', reg.coef_, '\\n')\n",
    "\n",
    "# 預測\n",
    "y_pred = reg.predict(x_test)\n",
    "\n",
    "# MSE\n",
    "print(f'MSE: {mean_squared_error(y_pred, y_test)}')"
   ]
  },
  {
   "cell_type": "code",
   "execution_count": 3,
   "metadata": {},
   "outputs": [
    {
     "name": "stdout",
     "output_type": "stream",
     "text": [
      "係數:  [-1.07915406e-01  4.29689189e-02 -3.26295002e-02  0.00000000e+00\n",
      " -0.00000000e+00  3.36102306e+00 -1.13937656e-03 -1.10015486e+00\n",
      "  2.87168767e-01 -1.45620194e-02 -7.72118638e-01  1.09996189e-02\n",
      " -6.23897105e-01] \n",
      "\n",
      "MSE: 15.926720132052022\n"
     ]
    }
   ],
   "source": [
    "# 讀取\n",
    "boston = datasets.load_boston()\n",
    "\n",
    "# 切分\n",
    "x_train, x_test, y_train, y_test = train_test_split(boston.data, boston.target, test_size=0.1, random_state=42)\n",
    "\n",
    "# 建模\n",
    "reg = linear_model.Lasso(alpha=0.2).fit(x_train, y_train)\n",
    "\n",
    "# 係數\n",
    "print('係數: ', reg.coef_, '\\n')\n",
    "\n",
    "# 預測\n",
    "y_pred = reg.predict(x_test)\n",
    "\n",
    "# MSE\n",
    "print(f'MSE: {mean_squared_error(y_pred, y_test)}')"
   ]
  },
  {
   "cell_type": "markdown",
   "metadata": {},
   "source": [
    "- 可以看出可以篩選特徵"
   ]
  },
  {
   "cell_type": "code",
   "execution_count": 4,
   "metadata": {},
   "outputs": [
    {
     "name": "stdout",
     "output_type": "stream",
     "text": [
      "係數:  [-1.18691063e-01  4.03367919e-02  1.09959377e-02  2.72321502e+00\n",
      " -1.62394543e+01  3.77092390e+00  2.57747217e-03 -1.43813148e+00\n",
      "  3.06687522e-01 -1.20145574e-02 -9.21852990e-01  1.04174732e-02\n",
      " -5.53304832e-01] \n",
      "\n",
      "MSE: 14.887338746502426\n"
     ]
    }
   ],
   "source": [
    "# 讀取\n",
    "boston = datasets.load_boston()\n",
    "\n",
    "# 切分\n",
    "x_train, x_test, y_train, y_test = train_test_split(boston.data, boston.target, test_size=0.1, random_state=42)\n",
    "\n",
    "# 建模\n",
    "reg = linear_model.Ridge(alpha=0.2).fit(x_train, y_train)\n",
    "\n",
    "# 係數\n",
    "print('係數: ', reg.coef_, '\\n')\n",
    "\n",
    "# 預測\n",
    "y_pred = reg.predict(x_test)\n",
    "\n",
    "# MSE\n",
    "print(f'MSE: {mean_squared_error(y_pred, y_test)}')"
   ]
  },
  {
   "cell_type": "code",
   "execution_count": null,
   "metadata": {},
   "outputs": [],
   "source": []
  }
 ],
 "metadata": {
  "kernelspec": {
   "display_name": "Python 3",
   "language": "python",
   "name": "python3"
  },
  "language_info": {
   "codemirror_mode": {
    "name": "ipython",
    "version": 3
   },
   "file_extension": ".py",
   "mimetype": "text/x-python",
   "name": "python",
   "nbconvert_exporter": "python",
   "pygments_lexer": "ipython3",
   "version": "3.7.3"
  }
 },
 "nbformat": 4,
 "nbformat_minor": 2
}
