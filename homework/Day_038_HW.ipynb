{
 "cells": [
  {
   "cell_type": "markdown",
   "metadata": {},
   "source": [
    "## [作業重點]\n",
    "使用 Sklearn 中的線性迴歸模型，來訓練各種資料集，務必了解送進去模型訓練的**資料型態**為何，也請了解模型中各項參數的意義"
   ]
  },
  {
   "cell_type": "markdown",
   "metadata": {},
   "source": [
    "## 作業\n",
    "試著使用 sklearn datasets 的其他資料集 (wine, boston, ...)，來訓練自己的線性迴歸模型。"
   ]
  },
  {
   "cell_type": "markdown",
   "metadata": {},
   "source": [
    "### HINT: 注意 label 的型態，確定資料集的目標是分類還是回歸，在使用正確的模型訓練！"
   ]
  },
  {
   "cell_type": "code",
   "execution_count": 13,
   "metadata": {},
   "outputs": [],
   "source": [
    "import numpy as np\n",
    "import pandas as pd\n",
    "import matplotlib.pyplot as plt\n",
    "from sklearn import datasets, linear_model\n",
    "from sklearn.model_selection import train_test_split\n",
    "from sklearn.metrics import mean_squared_error\n",
    "from sklearn.metrics import mean_squared_error, r2_score, accuracy_score"
   ]
  },
  {
   "cell_type": "code",
   "execution_count": 14,
   "metadata": {},
   "outputs": [],
   "source": [
    "# 資料載入\n",
    "wine = datasets.load_wine()\n",
    "boston = datasets.load_boston()\n",
    "breast_cancer = datasets.load_breast_cancer()"
   ]
  },
  {
   "cell_type": "code",
   "execution_count": 15,
   "metadata": {
    "scrolled": true
   },
   "outputs": [
    {
     "data": {
      "text/plain": [
       "sklearn.utils.Bunch"
      ]
     },
     "execution_count": 15,
     "metadata": {},
     "output_type": "execute_result"
    }
   ],
   "source": [
    "type(wine)"
   ]
  },
  {
   "cell_type": "code",
   "execution_count": 17,
   "metadata": {},
   "outputs": [
    {
     "name": "stdout",
     "output_type": "stream",
     "text": [
      "Data shape:  (178, 1)\n"
     ]
    },
    {
     "name": "stderr",
     "output_type": "stream",
     "text": [
      "C:\\Users\\aband\\AppData\\Roaming\\Python\\Python37\\site-packages\\sklearn\\linear_model\\logistic.py:432: FutureWarning: Default solver will be changed to 'lbfgs' in 0.22. Specify a solver to silence this warning.\n",
      "  FutureWarning)\n",
      "C:\\Users\\aband\\AppData\\Roaming\\Python\\Python37\\site-packages\\sklearn\\linear_model\\logistic.py:469: FutureWarning: Default multi_class will be changed to 'auto' in 0.22. Specify the multi_class option to silence this warning.\n",
      "  \"this warning.\", FutureWarning)\n"
     ]
    }
   ],
   "source": [
    "# 為方便視覺化，我們只使用資料集中的 1 個 feature (column)\n",
    "X = wine.data[:, np.newaxis, 2]   # 2 是幹嘛的? \n",
    "print(\"Data shape: \", X.shape) # 可以看見有 442 筆資料與我們取出的其中一個 feature\n",
    "\n",
    "# 切分訓練集/測試集\n",
    "x_train, x_test, y_train, y_test = train_test_split(X, wine.target, test_size=0.1, random_state=4)\n",
    "\n",
    "# 建立一個線性回歸模型\n",
    "regr = linear_model.LogisticRegression()\n",
    "\n",
    "# 將訓練資料丟進去模型訓練\n",
    "regr.fit(x_train, y_train)\n",
    "\n",
    "# 將測試資料丟進模型得到預測結果\n",
    "y_pred = regr.predict(x_test)\n"
   ]
  },
  {
   "cell_type": "code",
   "execution_count": 21,
   "metadata": {},
   "outputs": [
    {
     "name": "stdout",
     "output_type": "stream",
     "text": [
      "[[2.43]\n",
      " [2.14]\n",
      " [2.67]\n",
      " [2.5 ]\n",
      " [2.87]\n",
      " [2.45]\n",
      " [2.45]\n",
      " [2.61]\n",
      " [2.17]\n",
      " [2.27]\n",
      " [2.3 ]\n",
      " [2.32]\n",
      " [2.41]\n",
      " [2.39]\n",
      " [2.38]\n",
      " [2.7 ]\n",
      " [2.72]\n",
      " [2.62]\n",
      " [2.48]\n",
      " [2.56]\n",
      " [2.28]\n",
      " [2.65]\n",
      " [2.36]\n",
      " [2.52]\n",
      " [2.61]\n",
      " [3.22]\n",
      " [2.62]\n",
      " [2.14]\n",
      " [2.8 ]\n",
      " [2.21]\n",
      " [2.7 ]\n",
      " [2.36]\n",
      " [2.36]\n",
      " [2.7 ]\n",
      " [2.65]\n",
      " [2.41]\n",
      " [2.84]\n",
      " [2.55]\n",
      " [2.1 ]\n",
      " [2.51]\n",
      " [2.31]\n",
      " [2.12]\n",
      " [2.59]\n",
      " [2.29]\n",
      " [2.1 ]\n",
      " [2.44]\n",
      " [2.28]\n",
      " [2.12]\n",
      " [2.4 ]\n",
      " [2.27]\n",
      " [2.04]\n",
      " [2.6 ]\n",
      " [2.42]\n",
      " [2.68]\n",
      " [2.25]\n",
      " [2.46]\n",
      " [2.3 ]\n",
      " [2.68]\n",
      " [2.5 ]\n",
      " [1.36]\n",
      " [2.28]\n",
      " [2.02]\n",
      " [1.92]\n",
      " [2.16]\n",
      " [2.53]\n",
      " [2.56]\n",
      " [1.7 ]\n",
      " [1.92]\n",
      " [2.36]\n",
      " [1.75]\n",
      " [2.21]\n",
      " [2.67]\n",
      " [2.24]\n",
      " [2.6 ]\n",
      " [2.3 ]\n",
      " [1.92]\n",
      " [1.71]\n",
      " [2.23]\n",
      " [1.95]\n",
      " [2.4 ]\n",
      " [2.  ]\n",
      " [2.2 ]\n",
      " [2.51]\n",
      " [2.32]\n",
      " [2.58]\n",
      " [2.24]\n",
      " [2.31]\n",
      " [2.62]\n",
      " [2.46]\n",
      " [2.3 ]\n",
      " [2.32]\n",
      " [2.42]\n",
      " [2.26]\n",
      " [2.22]\n",
      " [2.28]\n",
      " [2.2 ]\n",
      " [2.74]\n",
      " [1.98]\n",
      " [2.1 ]\n",
      " [2.21]\n",
      " [1.7 ]\n",
      " [1.9 ]\n",
      " [2.46]\n",
      " [1.88]\n",
      " [1.98]\n",
      " [2.27]\n",
      " [2.12]\n",
      " [2.28]\n",
      " [1.94]\n",
      " [2.7 ]\n",
      " [1.82]\n",
      " [2.17]\n",
      " [2.92]\n",
      " [2.5 ]\n",
      " [2.5 ]\n",
      " [2.2 ]\n",
      " [1.99]\n",
      " [2.19]\n",
      " [1.98]\n",
      " [2.  ]\n",
      " [2.42]\n",
      " [3.23]\n",
      " [2.73]\n",
      " [2.13]\n",
      " [2.39]\n",
      " [2.17]\n",
      " [2.29]\n",
      " [2.78]\n",
      " [2.3 ]\n",
      " [2.38]\n",
      " [2.32]\n",
      " [2.4 ]\n",
      " [2.4 ]\n",
      " [2.36]\n",
      " [2.25]\n",
      " [2.2 ]\n",
      " [2.54]\n",
      " [2.64]\n",
      " [2.19]\n",
      " [2.61]\n",
      " [2.7 ]\n",
      " [2.35]\n",
      " [2.72]\n",
      " [2.35]\n",
      " [2.2 ]\n",
      " [2.15]\n",
      " [2.23]\n",
      " [2.48]\n",
      " [2.38]\n",
      " [2.36]\n",
      " [2.62]\n",
      " [2.48]\n",
      " [2.75]\n",
      " [2.28]\n",
      " [2.1 ]\n",
      " [2.32]\n",
      " [2.38]\n",
      " [2.64]\n",
      " [2.7 ]\n",
      " [2.64]\n",
      " [2.38]\n",
      " [2.54]\n",
      " [2.58]\n",
      " [2.35]\n",
      " [2.3 ]\n",
      " [2.26]\n",
      " [2.6 ]\n",
      " [2.3 ]\n",
      " [2.69]\n",
      " [2.86]\n",
      " [2.32]\n",
      " [2.28]\n",
      " [2.48]\n",
      " [2.45]\n",
      " [2.48]\n",
      " [2.26]\n",
      " [2.37]\n",
      " [2.74]]\n"
     ]
    }
   ],
   "source": [
    "print(X)"
   ]
  },
  {
   "cell_type": "code",
   "execution_count": 18,
   "metadata": {},
   "outputs": [
    {
     "name": "stdout",
     "output_type": "stream",
     "text": [
      "Coefficients:  [[ 0.34067314]\n",
      " [-0.89961868]\n",
      " [ 0.04678403]]\n"
     ]
    }
   ],
   "source": [
    "# 可以看回歸模型的參數值\n",
    "print('Coefficients: ', regr.coef_)\n"
   ]
  },
  {
   "cell_type": "code",
   "execution_count": 19,
   "metadata": {},
   "outputs": [
    {
     "data": {
      "image/png": "[encoded data removed]",
      "text/plain": [
       "<Figure size 432x288 with 1 Axes>"
      ]
     },
     "metadata": {
      "needs_background": "light"
     },
     "output_type": "display_data"
    }
   ],
   "source": [
    "# 畫出回歸模型與實際資料的分佈\n",
    "plt.scatter(x_test, y_test,  color='black')\n",
    "plt.plot(x_test, y_pred, color='blue', linewidth=3)\n",
    "plt.show()"
   ]
  },
  {
   "cell_type": "code",
   "execution_count": 8,
   "metadata": {},
   "outputs": [
    {
     "name": "stdout",
     "output_type": "stream",
     "text": [
      "Coefficients: [[-0.08066555]]\n",
      "Accuracy:  0.9824561403508771\n"
     ]
    },
    {
     "name": "stderr",
     "output_type": "stream",
     "text": [
      "C:\\Users\\aband\\AppData\\Roaming\\Python\\Python37\\site-packages\\sklearn\\linear_model\\logistic.py:432: FutureWarning: Default solver will be changed to 'lbfgs' in 0.22. Specify a solver to silence this warning.\n",
      "  FutureWarning)\n"
     ]
    }
   ],
   "source": [
    "X = breast_cancer.data[:, np.newaxis, 2]\n",
    "x_train, x_test, y_train, y_test = train_test_split(X, breast_cancer.target, test_size=0.1, random_state=42)\n",
    "regr = linear_model.LogisticRegression().fit(x_train, y_train)\n",
    "y_pred = regr.predict(x_test)\n",
    "print(f'Coefficients: {regr.coef_}')\n",
    "acc = accuracy_score(y_test, y_pred)\n",
    "print(\"Accuracy: \", acc)"
   ]
  },
  {
   "cell_type": "code",
   "execution_count": 9,
   "metadata": {},
   "outputs": [
    {
     "data": {
      "image/png": "[encoded data removed]",
      "text/plain": [
       "<Figure size 432x288 with 1 Axes>"
      ]
     },
     "metadata": {
      "needs_background": "light"
     },
     "output_type": "display_data"
    }
   ],
   "source": [
    "# 畫出回歸模型與實際資料的分佈\n",
    "plt.scatter(x_test, y_test,  color='black')\n",
    "plt.plot(x_test, y_pred, color='blue', linewidth=3)\n",
    "plt.show()"
   ]
  },
  {
   "cell_type": "code",
   "execution_count": 10,
   "metadata": {},
   "outputs": [
    {
     "name": "stdout",
     "output_type": "stream",
     "text": [
      "shape: (506, 1)\n",
      "Coefficients: [-0.64959885]\n",
      "MSE: 63.06440222567295\n"
     ]
    }
   ],
   "source": [
    "X = boston.data[:, np.newaxis, 2]\n",
    "print(f'shape: {X.shape}')\n",
    "x_train, x_test, y_train, y_test = train_test_split(X, boston.target, test_size=0.1, random_state=4)\n",
    "\n",
    "regr = linear_model.LinearRegression().fit(x_train, y_train)\n",
    "y_pred = regr.predict(x_test)\n",
    "print(f'Coefficients: {regr.coef_}')\n",
    "print(f'MSE: {mean_squared_error(y_test, y_pred)}')"
   ]
  },
  {
   "cell_type": "code",
   "execution_count": 11,
   "metadata": {},
   "outputs": [
    {
     "data": {
      "image/png": "[encoded data removed]",
      "text/plain": [
       "<Figure size 432x288 with 1 Axes>"
      ]
     },
     "metadata": {
      "needs_background": "light"
     },
     "output_type": "display_data"
    }
   ],
   "source": [
    "# 畫出回歸模型與實際資料的分佈\n",
    "plt.scatter(x_test, y_test,  color='black')\n",
    "plt.plot(x_test, y_pred, color='blue', linewidth=3)\n",
    "plt.show()"
   ]
  },
  {
   "cell_type": "code",
   "execution_count": null,
   "metadata": {},
   "outputs": [],
   "source": []
  }
 ],
 "metadata": {
  "kernelspec": {
   "display_name": "Python 3",
   "language": "python",
   "name": "python3"
  },
  "language_info": {
   "codemirror_mode": {
    "name": "ipython",
    "version": 3
   },
   "file_extension": ".py",
   "mimetype": "text/x-python",
   "name": "python",
   "nbconvert_exporter": "python",
   "pygments_lexer": "ipython3",
   "version": "3.7.3"
  }
 },
 "nbformat": 4,
 "nbformat_minor": 2
}
