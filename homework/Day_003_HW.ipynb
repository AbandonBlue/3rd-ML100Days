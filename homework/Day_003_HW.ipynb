{
 "cells": [
  {
   "cell_type": "markdown",
   "metadata": {},
   "source": [
    "## [作業目標]\n",
    "持續接觸有關機器學習的相關專案與最新技術"
   ]
  },
  {
   "cell_type": "markdown",
   "metadata": {},
   "source": [
    "## [作業重點]\n",
    "透過觀察頂尖公司的機器學習文章，來了解各公司是怎麼應用機器學習在實際的專案上"
   ]
  },
  {
   "cell_type": "markdown",
   "metadata": {},
   "source": [
    "## [作業]\n",
    "今天的作業希望大家能夠看看全球機器學習巨頭們在做的機器學習專案。以 google 為例，下圖是 Google 內部專案使用機器學習的數量，隨著時間進展，現在早已超過 2000 個專案在使用機器學習。"
   ]
  },
  {
   "cell_type": "markdown",
   "metadata": {},
   "source": [
    "![image](https://cdn-images-1.medium.com/max/800/1*U_L8qI8RmYS-MOBrYvXhSA.png)"
   ]
  },
  {
   "cell_type": "markdown",
   "metadata": {},
   "source": [
    "底下幫同學整理幾間知名企業的 blog 或機器學習網站 (自行搜尋也可)，這些網站都會整理最新的機器學習專案或者是技術文章，請挑選一篇文章閱讀並試著回答\n",
    "1. 專案的目標？ (要解決什麼問題）\n",
    "2. 使用的技術是？ (只需知道名稱即可，例如：使用 CNN 卷積神經網路做影像分類)\n",
    "3. 資料來源？ "
   ]
  },
  {
   "cell_type": "markdown",
   "metadata": {},
   "source": [
    "閱讀文章:《基于医疗影像的早期诊断中不确定样本的检出（Learning with Unsure Data for Medical Image Diagnosis）》\n",
    "網址:https://www.jiqizhixin.com/articles/2019-09-04-7\n",
    "1. 醫療領域中,常有\"不確定性醫療數據\",可能會發生2種情況\n",
    "   一、患病卻誤診為健康\n",
    "   二、健康卻誤診為患病\n",
    "   情形一發生會造成重大醫療損害。\n",
    "   因此,此論文的目的在於\"部分改善\"不確性醫療數據,將誤診率降到最低,以更好地的幫助病人。\n",
    "   主要目標如下\n",
    "   1. 能夠及時對這些樣本進行隨機檢查,從而避免醫療損失\n",
    "   2. 降低假陽性\n",
    "   3. 使得模型在剩餘（確定）樣本中得到更加準確的分類。\n",
    "   如:阿茲海默症、肺結核(本文)\n",
    "2. UDM(Unsure Data for Medical Image Diagnosis),論文中所提出的模型。\n",
    "   其中使用了DenseNet神經網路做影像分類,用以解決樣本不平衡問題以及誤診參數調整。\n",
    "   Cost-Sensitive的方法調整Margin。\n",
    "3. 資料來源:\n",
    "   Lung Image Database Consortium (LIDC) and Image Database Resource Initiative (IDRI)簡稱LIDC-IDRI"
   ]
  },
  {
   "cell_type": "markdown",
   "metadata": {},
   "source": [
    "- [Google AI blog](https://ai.googleblog.com/)\n",
    "- [Facebook Research blog](https://research.fb.com/blog/)\n",
    "- [Apple machine learning journal](https://machinelearning.apple.com/)\n",
    "- [機器之心](https://www.jiqizhixin.com/)\n",
    "- [雷鋒網](http://www.leiphone.com/category/ai)"
   ]
  },
  {
   "cell_type": "code",
   "execution_count": null,
   "metadata": {},
   "outputs": [],
   "source": []
  }
 ],
 "metadata": {
  "kernelspec": {
   "display_name": "Python 3",
   "language": "python",
   "name": "python3"
  },
  "language_info": {
   "codemirror_mode": {
    "name": "ipython",
    "version": 3
   },
   "file_extension": ".py",
   "mimetype": "text/x-python",
   "name": "python",
   "nbconvert_exporter": "python",
   "pygments_lexer": "ipython3",
   "version": "3.7.3"
  }
 },
 "nbformat": 4,
 "nbformat_minor": 2
}
