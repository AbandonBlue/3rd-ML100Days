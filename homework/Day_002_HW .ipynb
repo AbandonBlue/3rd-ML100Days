{
 "cells": [
  {
   "cell_type": "markdown",
   "metadata": {},
   "source": [
    "## [作業目標]\n",
    "了解機器學習適合應用的領域與範疇。"
   ]
  },
  {
   "cell_type": "markdown",
   "metadata": {},
   "source": [
    "## [作業重點]\n",
    "透過瞭解機器學習的運作方式，找出非常適用機器學習應用的領域及其原因"
   ]
  },
  {
   "cell_type": "markdown",
   "metadata": {},
   "source": [
    "## 作業\n",
    "請找出一個你認為機器學習可以發光發熱的領域並闡述原因?\n",
    "\n",
    "醫療領域。\n",
    "\n",
    "現今醫療科技多予以數據化,在數據的幫助下,\n",
    "可以利用機器學習的技能幫助預測、分析病人的病情,也幫助快速篩檢等等。\n",
    "因為看醫生的成本其實相當高,不只有金錢還有時間成本,\n",
    "有時候只是小感冒,但因為症狀多難以詳述,\n",
    "還是會選擇去醫院看醫生以求得安心。\n",
    "\n",
    "如果將機器學習成熟的利用在此領域，\n",
    "能夠有效的減少醫護人員過勞以及資療資源的浪費。\n",
    "\n",
    "例如:利用Regression、Clustering方法,將蒐集到的大量資料加以預測。\n",
    "若跟硬體有效結合,可以不需要去醫院,透過電腦掃描、拍照等等方式,\n",
    "幫助初步的檢驗,若評估出風險不大,民眾可以自行選擇是否繼續前往醫院。\n",
    "且初步的檢驗資料也可以作為初步病例,減少到了醫院還要再檢查的時間成本,\n",
    "使得醫療過程效率、正確性都加以提升。\n"
   ]
  },
  {
   "cell_type": "code",
   "execution_count": null,
   "metadata": {},
   "outputs": [],
   "source": [
    "   "
   ]
  }
 ],
 "metadata": {
  "kernelspec": {
   "display_name": "Python 3",
   "language": "python",
   "name": "python3"
  },
  "language_info": {
   "codemirror_mode": {
    "name": "ipython",
    "version": 3
   },
   "file_extension": ".py",
   "mimetype": "text/x-python",
   "name": "python",
   "nbconvert_exporter": "python",
   "pygments_lexer": "ipython3",
   "version": "3.7.3"
  }
 },
 "nbformat": 4,
 "nbformat_minor": 2
}
