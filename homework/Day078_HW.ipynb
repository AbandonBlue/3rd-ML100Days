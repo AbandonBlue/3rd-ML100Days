{
 "cells": [
  {
   "cell_type": "markdown",
   "metadata": {},
   "source": [
    "## Work\n",
    "1. 請嘗試將 preproc_x 替換成以每筆資料的 min/max 進行標準化至 -1 ~ 1 間，再進行訓練\n",
    "2. 請嘗試將 mlp 疊更深 (e.g 5~10 層)，進行訓練後觀察 learning curve 的走勢\n",
    "3. (optional) 請改用 GPU 進行訓練 (如果你有 GPU 的話)，比較使用 CPU 與 GPU 的訓練速度"
   ]
  },
  {
   "cell_type": "code",
   "execution_count": 1,
   "metadata": {},
   "outputs": [],
   "source": [
    "## \n",
    "\"\"\"\n",
    "Your code here (optional)\n",
    "確認硬體資源\n",
    "\"\"\"\n"
   ]
  },
  {
   "cell_type": "code",
   "execution_count": 1,
   "metadata": {},
   "outputs": [
    {
     "name": "stderr",
     "output_type": "stream",
     "text": [
      "Using TensorFlow backend.\n"
     ]
    }
   ],
   "source": [
    "import os\n",
    "import keras\n",
    "\n",
    "# 請嘗試設定 GPU：os.environ\n"
   ]
  },
  {
   "cell_type": "code",
   "execution_count": 2,
   "metadata": {},
   "outputs": [],
   "source": [
    "train, test = keras.datasets.cifar10.load_data()"
   ]
  },
  {
   "cell_type": "code",
   "execution_count": 3,
   "metadata": {},
   "outputs": [],
   "source": [
    "## 資料前處理\n",
    "\"\"\"\n",
    "Your code here\n",
    "\"\"\"\n",
    "\n",
    "import numpy as np\n",
    "\n",
    "def preproc_x(x, flatten=True):\n",
    "    x = x / abs(np.max(x))\n",
    "    if flatten:\n",
    "        x = x.reshape((len(x), -1))\n",
    "    return x\n",
    "\n",
    "def preproc_y(y, num_classes=10):\n",
    "    if y.shape[-1] == 1:\n",
    "        y = keras.utils.to_categorical(y, num_classes)\n",
    "    return y    "
   ]
  },
  {
   "cell_type": "code",
   "execution_count": 4,
   "metadata": {},
   "outputs": [],
   "source": [
    "x_train, y_train = train\n",
    "x_test, y_test = test\n",
    "\n",
    "# Preproc the inputs\n",
    "x_train = preproc_x(x_train, True)\n",
    "x_test = preproc_x(x_test)\n",
    "\n",
    "# Preprc the outputs\n",
    "y_train = preproc_y(y_train)\n",
    "y_test = preproc_y(y_test)"
   ]
  },
  {
   "cell_type": "code",
   "execution_count": 5,
   "metadata": {},
   "outputs": [
    {
     "name": "stdout",
     "output_type": "stream",
     "text": [
      "Model: \"model_1\"\n",
      "_________________________________________________________________\n",
      "Layer (type)                 Output Shape              Param #   \n",
      "=================================================================\n",
      "input_1 (InputLayer)         (None, 3072)              0         \n",
      "_________________________________________________________________\n",
      "hidden_layer1 (Dense)        (None, 512)               1573376   \n",
      "_________________________________________________________________\n",
      "hidden_layer2 (Dense)        (None, 256)               131328    \n",
      "_________________________________________________________________\n",
      "hidden_layer3 (Dense)        (None, 128)               32896     \n",
      "_________________________________________________________________\n",
      "hidden_layer4 (Dense)        (None, 64)                8256      \n",
      "_________________________________________________________________\n",
      "hidden_layer5 (Dense)        (None, 32)                2080      \n",
      "_________________________________________________________________\n",
      "output (Dense)               (None, 10)                330       \n",
      "=================================================================\n",
      "Total params: 1,748,266\n",
      "Trainable params: 1,748,266\n",
      "Non-trainable params: 0\n",
      "_________________________________________________________________\n"
     ]
    }
   ],
   "source": [
    "\"\"\"Code Here\n",
    "建立你的神經網路\n",
    "\"\"\"\n",
    "def build_mlp(input_shape, output_units=10, num_neurons=[512, 256, 128, 64, 32]):\n",
    "    input_layer = keras.layers.Input(input_shape)\n",
    "    \n",
    "    for i, n_units in enumerate(num_neurons):\n",
    "        if i == 0:\n",
    "            x = keras.layers.Dense(units=n_units, activation=\"relu\", name=\"hidden_layer\"+str(i+1))(input_layer)\n",
    "        else:\n",
    "            x = keras.layers.Dense(units=n_units, activation=\"relu\", name=\"hidden_layer\"+str(i+1))(x)\n",
    "    \n",
    "    out = keras.layers.Dense(units=output_units, activation=\"softmax\", name=\"output\")(x)\n",
    "    \n",
    "    model = keras.models.Model(inputs=[input_layer], outputs=[out])\n",
    "    return model\n",
    " \n",
    "model = build_mlp(input_shape=x_train.shape[1:])\n",
    "model.summary()"
   ]
  },
  {
   "cell_type": "code",
   "execution_count": 6,
   "metadata": {},
   "outputs": [],
   "source": [
    "## 超參數設定\n",
    "LEARNING_RATE = 0.001\n",
    "EPOCHS = 100\n",
    "BATCH_SIZE = 256"
   ]
  },
  {
   "cell_type": "code",
   "execution_count": 7,
   "metadata": {},
   "outputs": [],
   "source": [
    "optimizer = keras.optimizers.Adam(lr=LEARNING_RATE)\n",
    "model.compile(loss=\"categorical_crossentropy\", metrics=[\"accuracy\"], optimizer=optimizer)"
   ]
  },
  {
   "cell_type": "code",
   "execution_count": 8,
   "metadata": {},
   "outputs": [
    {
     "name": "stdout",
     "output_type": "stream",
     "text": [
      "Train on 50000 samples, validate on 10000 samples\n",
      "Epoch 1/100\n",
      "50000/50000 [==============================] - 9s 177us/step - loss: 1.9987 - accuracy: 0.2571 - val_loss: 1.8231 - val_accuracy: 0.3166\n",
      "Epoch 2/100\n",
      "50000/50000 [==============================] - 9s 172us/step - loss: 1.7586 - accuracy: 0.3632 - val_loss: 1.7310 - val_accuracy: 0.3756\n",
      "Epoch 3/100\n",
      "50000/50000 [==============================] - 9s 175us/step - loss: 1.6566 - accuracy: 0.4051 - val_loss: 1.6244 - val_accuracy: 0.4235\n",
      "Epoch 4/100\n",
      "50000/50000 [==============================] - 8s 166us/step - loss: 1.5983 - accuracy: 0.4274 - val_loss: 1.5462 - val_accuracy: 0.4495\n",
      "Epoch 5/100\n",
      "50000/50000 [==============================] - 8s 164us/step - loss: 1.5497 - accuracy: 0.4442 - val_loss: 1.5479 - val_accuracy: 0.4471\n",
      "Epoch 6/100\n",
      "50000/50000 [==============================] - 8s 161us/step - loss: 1.5104 - accuracy: 0.4602 - val_loss: 1.5298 - val_accuracy: 0.4533\n",
      "Epoch 7/100\n",
      "50000/50000 [==============================] - 8s 169us/step - loss: 1.4853 - accuracy: 0.4692 - val_loss: 1.4873 - val_accuracy: 0.4717\n",
      "Epoch 8/100\n",
      "50000/50000 [==============================] - 9s 177us/step - loss: 1.4488 - accuracy: 0.4837 - val_loss: 1.4850 - val_accuracy: 0.4655\n",
      "Epoch 9/100\n",
      "50000/50000 [==============================] - 9s 171us/step - loss: 1.4211 - accuracy: 0.4896 - val_loss: 1.4695 - val_accuracy: 0.4759\n",
      "Epoch 10/100\n",
      "50000/50000 [==============================] - 9s 175us/step - loss: 1.3893 - accuracy: 0.5035 - val_loss: 1.4637 - val_accuracy: 0.4771\n",
      "Epoch 11/100\n",
      "50000/50000 [==============================] - 10s 198us/step - loss: 1.3767 - accuracy: 0.5094 - val_loss: 1.4825 - val_accuracy: 0.4717\n",
      "Epoch 12/100\n",
      "50000/50000 [==============================] - 10s 192us/step - loss: 1.3411 - accuracy: 0.5220 - val_loss: 1.4549 - val_accuracy: 0.4881\n",
      "Epoch 13/100\n",
      "50000/50000 [==============================] - 10s 203us/step - loss: 1.3203 - accuracy: 0.5301 - val_loss: 1.4313 - val_accuracy: 0.4997\n",
      "Epoch 14/100\n",
      "50000/50000 [==============================] - 10s 207us/step - loss: 1.2923 - accuracy: 0.5393 - val_loss: 1.4160 - val_accuracy: 0.4973\n",
      "Epoch 15/100\n",
      "50000/50000 [==============================] - 11s 212us/step - loss: 1.2722 - accuracy: 0.5457 - val_loss: 1.3814 - val_accuracy: 0.5127\n",
      "Epoch 16/100\n",
      "50000/50000 [==============================] - 10s 199us/step - loss: 1.2497 - accuracy: 0.5558 - val_loss: 1.4015 - val_accuracy: 0.5091\n",
      "Epoch 17/100\n",
      "50000/50000 [==============================] - 10s 206us/step - loss: 1.2314 - accuracy: 0.5590 - val_loss: 1.4148 - val_accuracy: 0.5040\n",
      "Epoch 18/100\n",
      "50000/50000 [==============================] - 11s 218us/step - loss: 1.2175 - accuracy: 0.5644 - val_loss: 1.3845 - val_accuracy: 0.5128\n",
      "Epoch 19/100\n",
      "50000/50000 [==============================] - 10s 198us/step - loss: 1.1981 - accuracy: 0.5710 - val_loss: 1.3670 - val_accuracy: 0.5197\n",
      "Epoch 20/100\n",
      "50000/50000 [==============================] - 9s 185us/step - loss: 1.1752 - accuracy: 0.5800 - val_loss: 1.3698 - val_accuracy: 0.5206\n",
      "Epoch 21/100\n",
      "50000/50000 [==============================] - 10s 194us/step - loss: 1.1439 - accuracy: 0.5930 - val_loss: 1.3685 - val_accuracy: 0.5252\n",
      "Epoch 22/100\n",
      "50000/50000 [==============================] - 10s 192us/step - loss: 1.1364 - accuracy: 0.5939 - val_loss: 1.4478 - val_accuracy: 0.5072\n",
      "Epoch 23/100\n",
      "50000/50000 [==============================] - 9s 173us/step - loss: 1.1167 - accuracy: 0.6027 - val_loss: 1.5385 - val_accuracy: 0.4884\n",
      "Epoch 24/100\n",
      "50000/50000 [==============================] - 9s 176us/step - loss: 1.0994 - accuracy: 0.6092 - val_loss: 1.4366 - val_accuracy: 0.5033\n",
      "Epoch 25/100\n",
      "50000/50000 [==============================] - 9s 173us/step - loss: 1.0815 - accuracy: 0.6135 - val_loss: 1.4024 - val_accuracy: 0.5194\n",
      "Epoch 26/100\n",
      "50000/50000 [==============================] - 9s 180us/step - loss: 1.0595 - accuracy: 0.6222 - val_loss: 1.4134 - val_accuracy: 0.5214\n",
      "Epoch 27/100\n",
      "50000/50000 [==============================] - 9s 180us/step - loss: 1.0389 - accuracy: 0.6291 - val_loss: 1.4005 - val_accuracy: 0.5256\n",
      "Epoch 28/100\n",
      "50000/50000 [==============================] - 10s 193us/step - loss: 1.0260 - accuracy: 0.6323 - val_loss: 1.4160 - val_accuracy: 0.5215\n",
      "Epoch 29/100\n",
      "50000/50000 [==============================] - 10s 210us/step - loss: 1.0068 - accuracy: 0.6394 - val_loss: 1.4024 - val_accuracy: 0.5252\n",
      "Epoch 30/100\n",
      "50000/50000 [==============================] - 10s 199us/step - loss: 0.9951 - accuracy: 0.6440 - val_loss: 1.4445 - val_accuracy: 0.5136\n",
      "Epoch 31/100\n",
      "50000/50000 [==============================] - 9s 178us/step - loss: 0.9813 - accuracy: 0.6487 - val_loss: 1.4363 - val_accuracy: 0.5187\n",
      "Epoch 32/100\n",
      "50000/50000 [==============================] - 9s 178us/step - loss: 0.9505 - accuracy: 0.6587 - val_loss: 1.4728 - val_accuracy: 0.5150\n",
      "Epoch 33/100\n",
      "50000/50000 [==============================] - 9s 175us/step - loss: 0.9422 - accuracy: 0.6610 - val_loss: 1.4627 - val_accuracy: 0.5198\n",
      "Epoch 34/100\n",
      "50000/50000 [==============================] - 9s 181us/step - loss: 0.9255 - accuracy: 0.6680 - val_loss: 1.4579 - val_accuracy: 0.5178\n",
      "Epoch 35/100\n",
      "50000/50000 [==============================] - 9s 174us/step - loss: 0.9177 - accuracy: 0.6709 - val_loss: 1.5035 - val_accuracy: 0.5146\n",
      "Epoch 36/100\n",
      "50000/50000 [==============================] - 9s 174us/step - loss: 0.8959 - accuracy: 0.6776 - val_loss: 1.4712 - val_accuracy: 0.5232\n",
      "Epoch 37/100\n",
      "50000/50000 [==============================] - 9s 176us/step - loss: 0.8781 - accuracy: 0.6861 - val_loss: 1.4754 - val_accuracy: 0.5233\n",
      "Epoch 38/100\n",
      "50000/50000 [==============================] - 9s 176us/step - loss: 0.8620 - accuracy: 0.6891 - val_loss: 1.5120 - val_accuracy: 0.5204\n",
      "Epoch 39/100\n",
      "50000/50000 [==============================] - 9s 181us/step - loss: 0.8402 - accuracy: 0.7000 - val_loss: 1.5547 - val_accuracy: 0.5147\n",
      "Epoch 40/100\n",
      "50000/50000 [==============================] - 9s 173us/step - loss: 0.8357 - accuracy: 0.6988 - val_loss: 1.5605 - val_accuracy: 0.5186\n",
      "Epoch 41/100\n",
      "50000/50000 [==============================] - 9s 175us/step - loss: 0.8194 - accuracy: 0.7069 - val_loss: 1.6014 - val_accuracy: 0.5187\n",
      "Epoch 42/100\n",
      "50000/50000 [==============================] - 9s 177us/step - loss: 0.7954 - accuracy: 0.7166 - val_loss: 1.5917 - val_accuracy: 0.5190\n",
      "Epoch 43/100\n",
      "50000/50000 [==============================] - 9s 179us/step - loss: 0.7823 - accuracy: 0.7172 - val_loss: 1.6822 - val_accuracy: 0.5116\n",
      "Epoch 44/100\n",
      "50000/50000 [==============================] - 9s 188us/step - loss: 0.7767 - accuracy: 0.7206 - val_loss: 1.6139 - val_accuracy: 0.5196\n",
      "Epoch 45/100\n",
      "50000/50000 [==============================] - 10s 194us/step - loss: 0.7560 - accuracy: 0.7290 - val_loss: 1.6478 - val_accuracy: 0.5171\n",
      "Epoch 46/100\n",
      "50000/50000 [==============================] - 10s 200us/step - loss: 0.7531 - accuracy: 0.7289 - val_loss: 1.6536 - val_accuracy: 0.5245\n",
      "Epoch 47/100\n",
      "50000/50000 [==============================] - 10s 194us/step - loss: 0.7291 - accuracy: 0.7388 - val_loss: 1.6658 - val_accuracy: 0.5186\n",
      "Epoch 48/100\n",
      "50000/50000 [==============================] - 10s 194us/step - loss: 0.7163 - accuracy: 0.7426 - val_loss: 1.7346 - val_accuracy: 0.5097\n",
      "Epoch 49/100\n",
      "50000/50000 [==============================] - 10s 199us/step - loss: 0.7051 - accuracy: 0.7451 - val_loss: 1.7094 - val_accuracy: 0.5162\n",
      "Epoch 50/100\n",
      "50000/50000 [==============================] - 10s 200us/step - loss: 0.6830 - accuracy: 0.7545 - val_loss: 1.7475 - val_accuracy: 0.5212\n",
      "Epoch 51/100\n",
      "50000/50000 [==============================] - 10s 199us/step - loss: 0.6676 - accuracy: 0.7598 - val_loss: 1.7853 - val_accuracy: 0.5106\n",
      "Epoch 52/100\n",
      "50000/50000 [==============================] - 10s 200us/step - loss: 0.6637 - accuracy: 0.7624 - val_loss: 1.7671 - val_accuracy: 0.5224\n",
      "Epoch 53/100\n",
      "50000/50000 [==============================] - 10s 205us/step - loss: 0.6510 - accuracy: 0.7657 - val_loss: 1.8178 - val_accuracy: 0.5192\n",
      "Epoch 54/100\n",
      "50000/50000 [==============================] - 10s 198us/step - loss: 0.6419 - accuracy: 0.7702 - val_loss: 1.8565 - val_accuracy: 0.5141\n",
      "Epoch 55/100\n",
      "50000/50000 [==============================] - 9s 183us/step - loss: 0.6413 - accuracy: 0.7712 - val_loss: 1.8772 - val_accuracy: 0.5083\n",
      "Epoch 56/100\n",
      "50000/50000 [==============================] - 9s 182us/step - loss: 0.6354 - accuracy: 0.7723 - val_loss: 1.8578 - val_accuracy: 0.5154\n",
      "Epoch 57/100\n",
      "50000/50000 [==============================] - 9s 180us/step - loss: 0.6018 - accuracy: 0.7843 - val_loss: 1.9609 - val_accuracy: 0.5079\n",
      "Epoch 58/100\n",
      "50000/50000 [==============================] - 9s 180us/step - loss: 0.5849 - accuracy: 0.7894 - val_loss: 1.9929 - val_accuracy: 0.5116\n",
      "Epoch 59/100\n",
      "50000/50000 [==============================] - 9s 181us/step - loss: 0.5933 - accuracy: 0.7884 - val_loss: 1.9881 - val_accuracy: 0.5025\n",
      "Epoch 60/100\n",
      "50000/50000 [==============================] - 9s 188us/step - loss: 0.5735 - accuracy: 0.7931 - val_loss: 2.0343 - val_accuracy: 0.5064\n",
      "Epoch 61/100\n",
      "50000/50000 [==============================] - 9s 187us/step - loss: 0.5597 - accuracy: 0.8010 - val_loss: 2.0467 - val_accuracy: 0.5146\n",
      "Epoch 62/100\n",
      "50000/50000 [==============================] - 9s 185us/step - loss: 0.5570 - accuracy: 0.7994 - val_loss: 2.0889 - val_accuracy: 0.5060\n",
      "Epoch 63/100\n",
      "50000/50000 [==============================] - 9s 184us/step - loss: 0.5446 - accuracy: 0.8049 - val_loss: 2.0945 - val_accuracy: 0.5135\n",
      "Epoch 64/100\n",
      "50000/50000 [==============================] - 9s 184us/step - loss: 0.5477 - accuracy: 0.8025 - val_loss: 2.1249 - val_accuracy: 0.5094\n",
      "Epoch 65/100\n",
      "50000/50000 [==============================] - 9s 182us/step - loss: 0.5155 - accuracy: 0.8155 - val_loss: 2.2040 - val_accuracy: 0.5154\n",
      "Epoch 66/100\n",
      "50000/50000 [==============================] - 9s 187us/step - loss: 0.5288 - accuracy: 0.8095 - val_loss: 2.1242 - val_accuracy: 0.5092\n",
      "Epoch 67/100\n",
      "50000/50000 [==============================] - 10s 190us/step - loss: 0.5208 - accuracy: 0.8134 - val_loss: 2.1783 - val_accuracy: 0.5154\n",
      "Epoch 68/100\n",
      "50000/50000 [==============================] - 9s 183us/step - loss: 0.5017 - accuracy: 0.8196 - val_loss: 2.2265 - val_accuracy: 0.5108\n",
      "Epoch 69/100\n",
      "50000/50000 [==============================] - 9s 185us/step - loss: 0.4991 - accuracy: 0.8200 - val_loss: 2.2187 - val_accuracy: 0.5094\n",
      "Epoch 70/100\n",
      "50000/50000 [==============================] - 9s 183us/step - loss: 0.4815 - accuracy: 0.8270 - val_loss: 2.2792 - val_accuracy: 0.5080\n",
      "Epoch 71/100\n",
      "50000/50000 [==============================] - 9s 190us/step - loss: 0.4991 - accuracy: 0.8199 - val_loss: 2.2749 - val_accuracy: 0.5038\n",
      "Epoch 72/100\n",
      "50000/50000 [==============================] - 9s 181us/step - loss: 0.4773 - accuracy: 0.8276 - val_loss: 2.3284 - val_accuracy: 0.5070\n",
      "Epoch 73/100\n",
      "50000/50000 [==============================] - 9s 182us/step - loss: 0.4807 - accuracy: 0.8276 - val_loss: 2.3103 - val_accuracy: 0.5071\n",
      "Epoch 74/100\n",
      "50000/50000 [==============================] - 10s 190us/step - loss: 0.4499 - accuracy: 0.8389 - val_loss: 2.3808 - val_accuracy: 0.5041\n",
      "Epoch 75/100\n",
      "50000/50000 [==============================] - 9s 186us/step - loss: 0.4602 - accuracy: 0.8345 - val_loss: 2.4200 - val_accuracy: 0.5065\n",
      "Epoch 76/100\n",
      "50000/50000 [==============================] - 9s 186us/step - loss: 0.4603 - accuracy: 0.8354 - val_loss: 2.4237 - val_accuracy: 0.5004\n",
      "Epoch 77/100\n",
      "50000/50000 [==============================] - 9s 184us/step - loss: 0.4341 - accuracy: 0.8436 - val_loss: 2.4939 - val_accuracy: 0.5054\n",
      "Epoch 78/100\n",
      "50000/50000 [==============================] - 9s 181us/step - loss: 0.4118 - accuracy: 0.8521 - val_loss: 2.5844 - val_accuracy: 0.4994\n",
      "Epoch 79/100\n",
      "50000/50000 [==============================] - 9s 182us/step - loss: 0.4334 - accuracy: 0.8447 - val_loss: 2.5416 - val_accuracy: 0.4993\n",
      "Epoch 80/100\n",
      "50000/50000 [==============================] - 9s 182us/step - loss: 0.4396 - accuracy: 0.8412 - val_loss: 2.6235 - val_accuracy: 0.4992\n",
      "Epoch 81/100\n",
      "50000/50000 [==============================] - 9s 188us/step - loss: 0.4320 - accuracy: 0.8450 - val_loss: 2.5290 - val_accuracy: 0.5003\n",
      "Epoch 82/100\n",
      "50000/50000 [==============================] - 9s 181us/step - loss: 0.4052 - accuracy: 0.8542 - val_loss: 2.6687 - val_accuracy: 0.4995\n",
      "Epoch 83/100\n",
      "50000/50000 [==============================] - 9s 182us/step - loss: 0.4278 - accuracy: 0.8457 - val_loss: 2.5017 - val_accuracy: 0.5021\n",
      "Epoch 84/100\n",
      "50000/50000 [==============================] - 9s 184us/step - loss: 0.3836 - accuracy: 0.8640 - val_loss: 2.7230 - val_accuracy: 0.4995\n",
      "Epoch 85/100\n",
      "50000/50000 [==============================] - 9s 182us/step - loss: 0.3866 - accuracy: 0.8605 - val_loss: 2.7192 - val_accuracy: 0.5057\n",
      "Epoch 86/100\n",
      "50000/50000 [==============================] - 9s 184us/step - loss: 0.3846 - accuracy: 0.8601 - val_loss: 2.7342 - val_accuracy: 0.5049\n",
      "Epoch 87/100\n",
      "50000/50000 [==============================] - 9s 184us/step - loss: 0.3967 - accuracy: 0.8574 - val_loss: 2.6833 - val_accuracy: 0.5012\n",
      "Epoch 88/100\n",
      "50000/50000 [==============================] - 9s 190us/step - loss: 0.4012 - accuracy: 0.8545 - val_loss: 2.7947 - val_accuracy: 0.4870\n",
      "Epoch 89/100\n",
      "50000/50000 [==============================] - 9s 184us/step - loss: 0.3919 - accuracy: 0.8584 - val_loss: 2.8847 - val_accuracy: 0.4946\n",
      "Epoch 90/100\n",
      "50000/50000 [==============================] - 9s 182us/step - loss: 0.3703 - accuracy: 0.8681 - val_loss: 2.8286 - val_accuracy: 0.5018\n",
      "Epoch 91/100\n",
      "50000/50000 [==============================] - 9s 184us/step - loss: 0.3499 - accuracy: 0.8740 - val_loss: 2.8925 - val_accuracy: 0.4994\n",
      "Epoch 92/100\n",
      "50000/50000 [==============================] - 9s 184us/step - loss: 0.3775 - accuracy: 0.8653 - val_loss: 2.9233 - val_accuracy: 0.4900\n",
      "Epoch 93/100\n",
      "50000/50000 [==============================] - 9s 184us/step - loss: 0.3745 - accuracy: 0.8647 - val_loss: 2.8881 - val_accuracy: 0.5080\n",
      "Epoch 94/100\n",
      "50000/50000 [==============================] - 9s 183us/step - loss: 0.3550 - accuracy: 0.8715 - val_loss: 3.0093 - val_accuracy: 0.4940\n",
      "Epoch 95/100\n",
      "50000/50000 [==============================] - 10s 191us/step - loss: 0.3643 - accuracy: 0.8684 - val_loss: 2.9512 - val_accuracy: 0.4955\n",
      "Epoch 96/100\n",
      "50000/50000 [==============================] - 9s 187us/step - loss: 0.3402 - accuracy: 0.8771 - val_loss: 3.0922 - val_accuracy: 0.4909\n",
      "Epoch 97/100\n",
      "50000/50000 [==============================] - 9s 183us/step - loss: 0.3456 - accuracy: 0.8754 - val_loss: 2.9509 - val_accuracy: 0.4967\n",
      "Epoch 98/100\n",
      "50000/50000 [==============================] - 9s 182us/step - loss: 0.3507 - accuracy: 0.8727 - val_loss: 3.0791 - val_accuracy: 0.4951\n",
      "Epoch 99/100\n",
      "50000/50000 [==============================] - 9s 182us/step - loss: 0.3474 - accuracy: 0.8765 - val_loss: 3.0407 - val_accuracy: 0.4921\n",
      "Epoch 100/100\n",
      "50000/50000 [==============================] - 9s 183us/step - loss: 0.3346 - accuracy: 0.8786 - val_loss: 3.0691 - val_accuracy: 0.4959\n"
     ]
    },
    {
     "data": {
      "text/plain": [
       "<keras.callbacks.callbacks.History at 0x2093adf62b0>"
      ]
     },
     "execution_count": 8,
     "metadata": {},
     "output_type": "execute_result"
    }
   ],
   "source": [
    "model.fit(x_train, y_train, \n",
    "          epochs=EPOCHS, \n",
    "          batch_size=BATCH_SIZE, \n",
    "          validation_data=(x_test, y_test), \n",
    "          shuffle=True)"
   ]
  },
  {
   "cell_type": "code",
   "execution_count": 10,
   "metadata": {},
   "outputs": [
    {
     "data": {
      "image/png": "[encoded data removed]",
      "text/plain": [
       "<Figure size 432x288 with 1 Axes>"
      ]
     },
     "metadata": {
      "needs_background": "light"
     },
     "output_type": "display_data"
    },
    {
     "data": {
      "image/png": "[encoded data removed]",
      "text/plain": [
       "<Figure size 432x288 with 1 Axes>"
      ]
     },
     "metadata": {
      "needs_background": "light"
     },
     "output_type": "display_data"
    }
   ],
   "source": [
    "import matplotlib.pyplot as plt\n",
    "\n",
    "\n",
    "train_loss = model.history.history[\"loss\"]\n",
    "valid_loss = model.history.history[\"val_loss\"]\n",
    "\n",
    "train_acc = model.history.history[\"accuracy\"]\n",
    "valid_acc = model.history.history[\"val_accuracy\"]\n",
    "\n",
    "plt.plot(range(len(train_loss)), train_loss, label=\"train loss\")\n",
    "plt.plot(range(len(valid_loss)), valid_loss, label=\"valid loss\")\n",
    "plt.legend()\n",
    "plt.title(\"Loss\")\n",
    "plt.show()\n",
    "\n",
    "plt.plot(range(len(train_acc)), train_acc, label=\"train accuracy\")\n",
    "plt.plot(range(len(valid_acc)), valid_acc, label=\"valid accuracy\")\n",
    "plt.legend()\n",
    "plt.title(\"Accuracy\")\n",
    "plt.show()"
   ]
  },
  {
   "cell_type": "code",
   "execution_count": null,
   "metadata": {},
   "outputs": [],
   "source": [
    "# 明顯的overfitting"
   ]
  }
 ],
 "metadata": {
  "kernelspec": {
   "display_name": "Python 3",
   "language": "python",
   "name": "python3"
  },
  "language_info": {
   "codemirror_mode": {
    "name": "ipython",
    "version": 3
   },
   "file_extension": ".py",
   "mimetype": "text/x-python",
   "name": "python",
   "nbconvert_exporter": "python",
   "pygments_lexer": "ipython3",
   "version": "3.7.3"
  }
 },
 "nbformat": 4,
 "nbformat_minor": 2
}
