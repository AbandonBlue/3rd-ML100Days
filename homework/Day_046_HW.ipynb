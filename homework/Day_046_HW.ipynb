{
 "cells": [
  {
   "cell_type": "markdown",
   "metadata": {},
   "source": [
    "### 作業\n",
    "目前已經學過許多的模型，相信大家對整體流程應該比較掌握了，這次作業請改用**手寫辨識資料集**，步驟流程都是一樣的，請試著自己撰寫程式碼來完成所有步驟"
   ]
  },
  {
   "cell_type": "markdown",
   "metadata": {},
   "source": [
    "- [GradientBoostingClassifier](https://scikit-learn.org/stable/modules/generated/sklearn.ensemble.GradientBoostingClassifier.html)"
   ]
  },
  {
   "cell_type": "code",
   "execution_count": 3,
   "metadata": {},
   "outputs": [
    {
     "name": "stdout",
     "output_type": "stream",
     "text": [
      "accurancy: 0.9694444444444444\n",
      "accurancy: 0.9694444444444444\n"
     ]
    }
   ],
   "source": [
    "from sklearn import datasets, metrics\n",
    "from sklearn.ensemble import GradientBoostingClassifier\n",
    "from sklearn.model_selection import train_test_split\n",
    "\n",
    "# read\n",
    "digits = datasets.load_digits()\n",
    "\n",
    "# split\n",
    "x_train, x_test, y_train, y_test = train_test_split(digits.data, digits.target, test_size=0.2, random_state=42)\n",
    "\n",
    "# model\n",
    "gbc = GradientBoostingClassifier().fit(x_train, y_train)\n",
    "\n",
    "# predict\n",
    "y_pred = gbc.predict(x_test)\n",
    "\n",
    "# score\n",
    "print(f'accurancy: {metrics.accuracy_score(y_test, y_pred)}')\n",
    "print(f'accurancy: {metrics.accuracy_score(y_pred, y_test)}')"
   ]
  },
  {
   "cell_type": "code",
   "execution_count": 11,
   "metadata": {},
   "outputs": [
    {
     "name": "stdout",
     "output_type": "stream",
     "text": [
      "accurancy: 0.9722222222222222\n",
      "accurancy: 0.9722222222222222\n"
     ]
    }
   ],
   "source": [
    "# 改一些參數試試看\n",
    "# read\n",
    "digits = datasets.load_digits()\n",
    "\n",
    "# split\n",
    "x_train, x_test, y_train, y_test = train_test_split(digits.data, digits.target, test_size=0.2, random_state=42)\n",
    "\n",
    "# model\n",
    "# gbc = GradientBoostingClassifier(loss=’deviance’, learning_rate=0.1, n_estimators=100, subsample=1.0, criterion=’friedman_mse’, min_samples_split=2, min_samples_leaf=1, min_weight_fraction_leaf=0.0, max_depth=3, min_impurity_decrease=0.0, min_impurity_split=None, init=None, random_state=None, max_features=None, verbose=0, max_leaf_nodes=None, warm_start=False, presort=’auto’, validation_fraction=0.1, n_iter_no_change=None, tol=0.0001).fit(x_train, y_train)\n",
    "# 上面是完整的\n",
    "# gbc = GradientBoostingClassifier(learning_rate=0.2).fit(x_train, y_train)\n",
    "# gbc = GradientBoostingClassifier(learning_rate=0.3).fit(x_train, y_train)\n",
    "# gbc = GradientBoostingClassifier(learning_rate=0.3, n_estimators=200).fit(x_train, y_train)\n",
    "gbc = GradientBoostingClassifier(learning_rate=0.1, n_estimators=200).fit(x_train, y_train)\n",
    "\n",
    "\n",
    "\n",
    "# predict\n",
    "y_pred = gbc.predict(x_test)\n",
    "\n",
    "# score\n",
    "print(f'accurancy: {metrics.accuracy_score(y_test, y_pred)}')\n",
    "print(f'accurancy: {metrics.accuracy_score(y_pred, y_test)}')"
   ]
  },
  {
   "cell_type": "markdown",
   "metadata": {},
   "source": [
    "- 改參數過程\n",
    "- [參考調整參數統整](https://blog.csdn.net/brucewong0516/article/details/78700402)\n",
    "    - learning rate=0.2 ---> 沒變。\n",
    "    - learning rate=0.3 ---> 提升大約0.03至0.9722\n",
    "    - learning rate=0.3, n_estimators=200 ---> 同上, 沒變\n",
    "    - 一直推到400都沒變。換別的\n",
    "    - learning rate=0.1, n_estimators=200 ---> 0.9722, 學習率不要太高\n",
    "    "
   ]
  }
 ],
 "metadata": {
  "kernelspec": {
   "display_name": "Python 3",
   "language": "python",
   "name": "python3"
  },
  "language_info": {
   "codemirror_mode": {
    "name": "ipython",
    "version": 3
   },
   "file_extension": ".py",
   "mimetype": "text/x-python",
   "name": "python",
   "nbconvert_exporter": "python",
   "pygments_lexer": "ipython3",
   "version": "3.7.3"
  }
 },
 "nbformat": 4,
 "nbformat_minor": 2
}
