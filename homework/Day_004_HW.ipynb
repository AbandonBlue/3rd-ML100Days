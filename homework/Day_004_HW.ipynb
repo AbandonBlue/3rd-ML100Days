{
 "cells": [
  {
   "cell_type": "markdown",
   "metadata": {},
   "source": [
    "## 練習時間\n",
    "資料的操作有很多，接下來的馬拉松中我們會介紹常被使用到的操作，參加者不妨先自行想像一下，第一次看到資料，我們一般會想知道什麼訊息？\n",
    "\n",
    "#### Ex: 如何知道資料的 row 數以及 column 數、有什麼欄位、多少欄位、如何截取部分的資料等等\n",
    "\n",
    "有了對資料的好奇之後，我們又怎麼通過程式碼來達成我們的目的呢？\n",
    "\n",
    "#### 可參考該[基礎教材](https://bookdata.readthedocs.io/en/latest/base/01_pandas.html#DataFrame-%E5%85%A5%E9%97%A8)或自行 google"
   ]
  },
  {
   "cell_type": "markdown",
   "metadata": {},
   "source": [
    "# [作業目標]\n",
    "- 熟悉更多的 Python 資料操作"
   ]
  },
  {
   "cell_type": "markdown",
   "metadata": {},
   "source": [
    "# [作業重點]\n",
    "- 列出資料的大小 (In[4], Hint : shape)\n",
    "- 列出所有欄位 (In[5], 有多種寫法)\n",
    "- 擷取部分資料 (In[6], Hint : loc 或 iloc)"
   ]
  },
  {
   "cell_type": "code",
   "execution_count": 1,
   "metadata": {},
   "outputs": [],
   "source": [
    "import os\n",
    "import numpy as np\n",
    "import pandas as pd"
   ]
  },
  {
   "cell_type": "code",
   "execution_count": 2,
   "metadata": {},
   "outputs": [],
   "source": [
    "# 設定 data_path\n",
    "dir_data = './d4_dataset/Part01/'"
   ]
  },
  {
   "cell_type": "code",
   "execution_count": 3,
   "metadata": {},
   "outputs": [
    {
     "name": "stdout",
     "output_type": "stream",
     "text": [
      "Path of read in data: ./d4_dataset/Part01/application_train.csv\n"
     ]
    }
   ],
   "source": [
    "f_app = os.path.join(dir_data, 'application_train.csv')\n",
    "print('Path of read in data: %s' % (f_app))\n",
    "app_train = pd.read_csv(f_app)"
   ]
  },
  {
   "cell_type": "markdown",
   "metadata": {},
   "source": [
    "### 如果沒有想法，可以先嘗試找出剛剛例子中提到的問題的答案\n",
    "#### 資料的 row 數以及 column 數"
   ]
  },
  {
   "cell_type": "code",
   "execution_count": 5,
   "metadata": {},
   "outputs": [
    {
     "name": "stdout",
     "output_type": "stream",
     "text": [
      "rows: 307511\n",
      "columns: 122\n"
     ]
    }
   ],
   "source": [
    "print('rows: {}'.format(app_train.shape[0]))\n",
    "print('columns: {}'.format(app_train.shape[1]))"
   ]
  },
  {
   "cell_type": "markdown",
   "metadata": {},
   "source": [
    "#### 列出所有欄位"
   ]
  },
  {
   "cell_type": "code",
   "execution_count": 7,
   "metadata": {},
   "outputs": [
    {
     "name": "stdout",
     "output_type": "stream",
     "text": [
      "column 0: SK_ID_CURR\n",
      "column 1: TARGET\n",
      "column 2: NAME_CONTRACT_TYPE\n",
      "column 3: CODE_GENDER\n",
      "column 4: FLAG_OWN_CAR\n",
      "column 5: FLAG_OWN_REALTY\n",
      "column 6: CNT_CHILDREN\n",
      "column 7: AMT_INCOME_TOTAL\n",
      "column 8: AMT_CREDIT\n",
      "column 9: AMT_ANNUITY\n",
      "column 10: AMT_GOODS_PRICE\n",
      "column 11: NAME_TYPE_SUITE\n",
      "column 12: NAME_INCOME_TYPE\n",
      "column 13: NAME_EDUCATION_TYPE\n",
      "column 14: NAME_FAMILY_STATUS\n",
      "column 15: NAME_HOUSING_TYPE\n",
      "column 16: REGION_POPULATION_RELATIVE\n",
      "column 17: DAYS_BIRTH\n",
      "column 18: DAYS_EMPLOYED\n",
      "column 19: DAYS_REGISTRATION\n",
      "column 20: DAYS_ID_PUBLISH\n",
      "column 21: OWN_CAR_AGE\n",
      "column 22: FLAG_MOBIL\n",
      "column 23: FLAG_EMP_PHONE\n",
      "column 24: FLAG_WORK_PHONE\n",
      "column 25: FLAG_CONT_MOBILE\n",
      "column 26: FLAG_PHONE\n",
      "column 27: FLAG_EMAIL\n",
      "column 28: OCCUPATION_TYPE\n",
      "column 29: CNT_FAM_MEMBERS\n",
      "column 30: REGION_RATING_CLIENT\n",
      "column 31: REGION_RATING_CLIENT_W_CITY\n",
      "column 32: WEEKDAY_APPR_PROCESS_START\n",
      "column 33: HOUR_APPR_PROCESS_START\n",
      "column 34: REG_REGION_NOT_LIVE_REGION\n",
      "column 35: REG_REGION_NOT_WORK_REGION\n",
      "column 36: LIVE_REGION_NOT_WORK_REGION\n",
      "column 37: REG_CITY_NOT_LIVE_CITY\n",
      "column 38: REG_CITY_NOT_WORK_CITY\n",
      "column 39: LIVE_CITY_NOT_WORK_CITY\n",
      "column 40: ORGANIZATION_TYPE\n",
      "column 41: EXT_SOURCE_1\n",
      "column 42: EXT_SOURCE_2\n",
      "column 43: EXT_SOURCE_3\n",
      "column 44: APARTMENTS_AVG\n",
      "column 45: BASEMENTAREA_AVG\n",
      "column 46: YEARS_BEGINEXPLUATATION_AVG\n",
      "column 47: YEARS_BUILD_AVG\n",
      "column 48: COMMONAREA_AVG\n",
      "column 49: ELEVATORS_AVG\n",
      "column 50: ENTRANCES_AVG\n",
      "column 51: FLOORSMAX_AVG\n",
      "column 52: FLOORSMIN_AVG\n",
      "column 53: LANDAREA_AVG\n",
      "column 54: LIVINGAPARTMENTS_AVG\n",
      "column 55: LIVINGAREA_AVG\n",
      "column 56: NONLIVINGAPARTMENTS_AVG\n",
      "column 57: NONLIVINGAREA_AVG\n",
      "column 58: APARTMENTS_MODE\n",
      "column 59: BASEMENTAREA_MODE\n",
      "column 60: YEARS_BEGINEXPLUATATION_MODE\n",
      "column 61: YEARS_BUILD_MODE\n",
      "column 62: COMMONAREA_MODE\n",
      "column 63: ELEVATORS_MODE\n",
      "column 64: ENTRANCES_MODE\n",
      "column 65: FLOORSMAX_MODE\n",
      "column 66: FLOORSMIN_MODE\n",
      "column 67: LANDAREA_MODE\n",
      "column 68: LIVINGAPARTMENTS_MODE\n",
      "column 69: LIVINGAREA_MODE\n",
      "column 70: NONLIVINGAPARTMENTS_MODE\n",
      "column 71: NONLIVINGAREA_MODE\n",
      "column 72: APARTMENTS_MEDI\n",
      "column 73: BASEMENTAREA_MEDI\n",
      "column 74: YEARS_BEGINEXPLUATATION_MEDI\n",
      "column 75: YEARS_BUILD_MEDI\n",
      "column 76: COMMONAREA_MEDI\n",
      "column 77: ELEVATORS_MEDI\n",
      "column 78: ENTRANCES_MEDI\n",
      "column 79: FLOORSMAX_MEDI\n",
      "column 80: FLOORSMIN_MEDI\n",
      "column 81: LANDAREA_MEDI\n",
      "column 82: LIVINGAPARTMENTS_MEDI\n",
      "column 83: LIVINGAREA_MEDI\n",
      "column 84: NONLIVINGAPARTMENTS_MEDI\n",
      "column 85: NONLIVINGAREA_MEDI\n",
      "column 86: FONDKAPREMONT_MODE\n",
      "column 87: HOUSETYPE_MODE\n",
      "column 88: TOTALAREA_MODE\n",
      "column 89: WALLSMATERIAL_MODE\n",
      "column 90: EMERGENCYSTATE_MODE\n",
      "column 91: OBS_30_CNT_SOCIAL_CIRCLE\n",
      "column 92: DEF_30_CNT_SOCIAL_CIRCLE\n",
      "column 93: OBS_60_CNT_SOCIAL_CIRCLE\n",
      "column 94: DEF_60_CNT_SOCIAL_CIRCLE\n",
      "column 95: DAYS_LAST_PHONE_CHANGE\n",
      "column 96: FLAG_DOCUMENT_2\n",
      "column 97: FLAG_DOCUMENT_3\n",
      "column 98: FLAG_DOCUMENT_4\n",
      "column 99: FLAG_DOCUMENT_5\n",
      "column 100: FLAG_DOCUMENT_6\n",
      "column 101: FLAG_DOCUMENT_7\n",
      "column 102: FLAG_DOCUMENT_8\n",
      "column 103: FLAG_DOCUMENT_9\n",
      "column 104: FLAG_DOCUMENT_10\n",
      "column 105: FLAG_DOCUMENT_11\n",
      "column 106: FLAG_DOCUMENT_12\n",
      "column 107: FLAG_DOCUMENT_13\n",
      "column 108: FLAG_DOCUMENT_14\n",
      "column 109: FLAG_DOCUMENT_15\n",
      "column 110: FLAG_DOCUMENT_16\n",
      "column 111: FLAG_DOCUMENT_17\n",
      "column 112: FLAG_DOCUMENT_18\n",
      "column 113: FLAG_DOCUMENT_19\n",
      "column 114: FLAG_DOCUMENT_20\n",
      "column 115: FLAG_DOCUMENT_21\n",
      "column 116: AMT_REQ_CREDIT_BUREAU_HOUR\n",
      "column 117: AMT_REQ_CREDIT_BUREAU_DAY\n",
      "column 118: AMT_REQ_CREDIT_BUREAU_WEEK\n",
      "column 119: AMT_REQ_CREDIT_BUREAU_MON\n",
      "column 120: AMT_REQ_CREDIT_BUREAU_QRT\n",
      "column 121: AMT_REQ_CREDIT_BUREAU_YEAR\n"
     ]
    }
   ],
   "source": [
    "i = 0                             # column從0開始\n",
    "for column in app_train.columns:\n",
    "    print('column {}: {}'.format(i, column))\n",
    "    i += 1"
   ]
  },
  {
   "cell_type": "markdown",
   "metadata": {},
   "source": [
    "#### 截取部分資料"
   ]
  },
  {
   "cell_type": "code",
   "execution_count": 13,
   "metadata": {},
   "outputs": [
    {
     "data": {
      "text/html": [
       "<div>\n",
       "<style scoped>\n",
       "    .dataframe tbody tr th:only-of-type {\n",
       "        vertical-align: middle;\n",
       "    }\n",
       "\n",
       "    .dataframe tbody tr th {\n",
       "        vertical-align: top;\n",
       "    }\n",
       "\n",
       "    .dataframe thead th {\n",
       "        text-align: right;\n",
       "    }\n",
       "</style>\n",
       "<table border=\"1\" class=\"dataframe\">\n",
       "  <thead>\n",
       "    <tr style=\"text-align: right;\">\n",
       "      <th></th>\n",
       "      <th>SK_ID_CURR</th>\n",
       "      <th>TARGET</th>\n",
       "      <th>NAME_CONTRACT_TYPE</th>\n",
       "      <th>CODE_GENDER</th>\n",
       "      <th>FLAG_OWN_CAR</th>\n",
       "    </tr>\n",
       "  </thead>\n",
       "  <tbody>\n",
       "    <tr>\n",
       "      <th>0</th>\n",
       "      <td>100002</td>\n",
       "      <td>1</td>\n",
       "      <td>Cash loans</td>\n",
       "      <td>M</td>\n",
       "      <td>N</td>\n",
       "    </tr>\n",
       "    <tr>\n",
       "      <th>1</th>\n",
       "      <td>100003</td>\n",
       "      <td>0</td>\n",
       "      <td>Cash loans</td>\n",
       "      <td>F</td>\n",
       "      <td>N</td>\n",
       "    </tr>\n",
       "    <tr>\n",
       "      <th>2</th>\n",
       "      <td>100004</td>\n",
       "      <td>0</td>\n",
       "      <td>Revolving loans</td>\n",
       "      <td>M</td>\n",
       "      <td>Y</td>\n",
       "    </tr>\n",
       "    <tr>\n",
       "      <th>3</th>\n",
       "      <td>100006</td>\n",
       "      <td>0</td>\n",
       "      <td>Cash loans</td>\n",
       "      <td>F</td>\n",
       "      <td>N</td>\n",
       "    </tr>\n",
       "    <tr>\n",
       "      <th>4</th>\n",
       "      <td>100007</td>\n",
       "      <td>0</td>\n",
       "      <td>Cash loans</td>\n",
       "      <td>M</td>\n",
       "      <td>N</td>\n",
       "    </tr>\n",
       "    <tr>\n",
       "      <th>5</th>\n",
       "      <td>100008</td>\n",
       "      <td>0</td>\n",
       "      <td>Cash loans</td>\n",
       "      <td>M</td>\n",
       "      <td>N</td>\n",
       "    </tr>\n",
       "    <tr>\n",
       "      <th>6</th>\n",
       "      <td>100009</td>\n",
       "      <td>0</td>\n",
       "      <td>Cash loans</td>\n",
       "      <td>F</td>\n",
       "      <td>Y</td>\n",
       "    </tr>\n",
       "    <tr>\n",
       "      <th>7</th>\n",
       "      <td>100010</td>\n",
       "      <td>0</td>\n",
       "      <td>Cash loans</td>\n",
       "      <td>M</td>\n",
       "      <td>Y</td>\n",
       "    </tr>\n",
       "    <tr>\n",
       "      <th>8</th>\n",
       "      <td>100011</td>\n",
       "      <td>0</td>\n",
       "      <td>Cash loans</td>\n",
       "      <td>F</td>\n",
       "      <td>N</td>\n",
       "    </tr>\n",
       "    <tr>\n",
       "      <th>9</th>\n",
       "      <td>100012</td>\n",
       "      <td>0</td>\n",
       "      <td>Revolving loans</td>\n",
       "      <td>M</td>\n",
       "      <td>N</td>\n",
       "    </tr>\n",
       "    <tr>\n",
       "      <th>10</th>\n",
       "      <td>100014</td>\n",
       "      <td>0</td>\n",
       "      <td>Cash loans</td>\n",
       "      <td>F</td>\n",
       "      <td>N</td>\n",
       "    </tr>\n",
       "  </tbody>\n",
       "</table>\n",
       "</div>"
      ],
      "text/plain": [
       "    SK_ID_CURR  TARGET NAME_CONTRACT_TYPE CODE_GENDER FLAG_OWN_CAR\n",
       "0       100002       1         Cash loans           M            N\n",
       "1       100003       0         Cash loans           F            N\n",
       "2       100004       0    Revolving loans           M            Y\n",
       "3       100006       0         Cash loans           F            N\n",
       "4       100007       0         Cash loans           M            N\n",
       "5       100008       0         Cash loans           M            N\n",
       "6       100009       0         Cash loans           F            Y\n",
       "7       100010       0         Cash loans           M            Y\n",
       "8       100011       0         Cash loans           F            N\n",
       "9       100012       0    Revolving loans           M            N\n",
       "10      100014       0         Cash loans           F            N"
      ]
     },
     "execution_count": 13,
     "metadata": {},
     "output_type": "execute_result"
    }
   ],
   "source": [
    "# loc[前面控制rows,後面控制columns]\n",
    "app_train.loc[:10, app_train.columns[0:5]]"
   ]
  },
  {
   "cell_type": "markdown",
   "metadata": {},
   "source": [
    "#### 還有各種數之不盡的資料操作，重點還是取決於實務中遇到的狀況和你想問的問題，在馬拉松中我們也會陸續提到更多例子"
   ]
  },
  {
   "cell_type": "code",
   "execution_count": 10,
   "metadata": {},
   "outputs": [],
   "source": []
  },
  {
   "cell_type": "code",
   "execution_count": null,
   "metadata": {},
   "outputs": [],
   "source": []
  }
 ],
 "metadata": {
  "kernelspec": {
   "display_name": "Python 3",
   "language": "python",
   "name": "python3"
  },
  "language_info": {
   "codemirror_mode": {
    "name": "ipython",
    "version": 3
   },
   "file_extension": ".py",
   "mimetype": "text/x-python",
   "name": "python",
   "nbconvert_exporter": "python",
   "pygments_lexer": "ipython3",
   "version": "3.7.3"
  }
 },
 "nbformat": 4,
 "nbformat_minor": 2
}
