{
 "cells": [
  {
   "cell_type": "markdown",
   "metadata": {},
   "source": [
    "# 作業\n",
    "* 試著想想看, 非監督學習是否有可能使用評價函數 (Metric) 來鑑別好壞呢?  \n",
    "(Hint : 可以分為 \"有目標值\" 與 \"無目標值\" 兩個方向思考)"
   ]
  },
  {
   "cell_type": "markdown",
   "metadata": {
    "collapsed": true
   },
   "source": [
    "- 有目標值\n",
    "    - 假設在市場消費者分群方面，由經濟理論or something else得知，可能的消費者類型有3種。\n",
    "        我們利用非監督式學習的分群演算法得出三類，觀察其密度大小，用以判斷其分群是否良好。\n",
    "        因此，有可能。\n",
    "\n",
    "- 無目標值\n",
    "    - 像降維這種類型的非監式學習，無明顯目標，可以透過降維後，特徵保持對原來模型多少解釋力作為一個評價。\n",
    "        因此，可能。"
   ]
  }
 ],
 "metadata": {
  "kernelspec": {
   "display_name": "Python 3",
   "language": "python",
   "name": "python3"
  },
  "language_info": {
   "codemirror_mode": {
    "name": "ipython",
    "version": 3
   },
   "file_extension": ".py",
   "mimetype": "text/x-python",
   "name": "python",
   "nbconvert_exporter": "python",
   "pygments_lexer": "ipython3",
   "version": "3.7.3"
  }
 },
 "nbformat": 4,
 "nbformat_minor": 1
}
