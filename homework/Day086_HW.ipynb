{
  "nbformat": 4,
  "nbformat_minor": 0,
  "metadata": {
    "kernelspec": {
      "name": "python3",
      "display_name": "Python 3"
    },
    "language_info": {
      "codemirror_mode": {
        "name": "ipython",
        "version": 3
      },
      "file_extension": ".py",
      "mimetype": "text/x-python",
      "name": "python",
      "nbconvert_exporter": "python",
      "pygments_lexer": "ipython3",
      "version": "3.7.3"
    },
    "colab": {
      "name": "Day086_HW.ipynb",
      "provenance": []
    },
    "accelerator": "GPU"
  },
  "cells": [
    {
      "cell_type": "markdown",
      "metadata": {
        "id": "DhXPaxOkAXGb",
        "colab_type": "text"
      },
      "source": [
        "## Work\n",
        "1. 試比較 save_best_only 與否的差異\n",
        "2. 請僅存入將 save_weights_only 設定為 True, 並嘗試 reset ipynb 並將模型與權重重新建回並預測 x_test"
      ]
    },
    {
      "cell_type": "code",
      "metadata": {
        "id": "dN8X-FCyAXGs",
        "colab_type": "code",
        "colab": {}
      },
      "source": [
        "import os\n",
        "import keras\n",
        "\n",
        "# Disable GPU\n",
        "# os.environ[\"CUDA_VISIBLE_DEVICES\"] = \"\""
      ],
      "execution_count": 0,
      "outputs": []
    },
    {
      "cell_type": "code",
      "metadata": {
        "id": "AQ5_NEWWAXG8",
        "colab_type": "code",
        "colab": {}
      },
      "source": [
        "train, test = keras.datasets.cifar10.load_data()"
      ],
      "execution_count": 0,
      "outputs": []
    },
    {
      "cell_type": "code",
      "metadata": {
        "id": "IOzLSAKPAXHJ",
        "colab_type": "code",
        "colab": {}
      },
      "source": [
        "## 資料前處理\n",
        "def preproc_x(x, flatten=True):\n",
        "    x = x / 255.\n",
        "    if flatten:\n",
        "        x = x.reshape((len(x), -1))\n",
        "    return x\n",
        "\n",
        "def preproc_y(y, num_classes=10):\n",
        "    if y.shape[-1] == 1:\n",
        "        y = keras.utils.to_categorical(y, num_classes)\n",
        "    return y    "
      ],
      "execution_count": 0,
      "outputs": []
    },
    {
      "cell_type": "code",
      "metadata": {
        "id": "jARoP653AXHd",
        "colab_type": "code",
        "colab": {}
      },
      "source": [
        "x_train, y_train = train\n",
        "x_test, y_test = test\n",
        "\n",
        "# Preproc the inputs\n",
        "x_train = preproc_x(x_train)\n",
        "x_test = preproc_x(x_test)\n",
        "\n",
        "# Preprc the outputs\n",
        "y_train = preproc_y(y_train)\n",
        "y_test = preproc_y(y_test)"
      ],
      "execution_count": 0,
      "outputs": []
    },
    {
      "cell_type": "code",
      "metadata": {
        "id": "ZEimMgzoAXHo",
        "colab_type": "code",
        "colab": {}
      },
      "source": [
        "from keras.layers import BatchNormalization\n",
        "\n",
        "def build_mlp(input_shape, output_units=10, num_neurons=[512, 256, 128]):\n",
        "    \"\"\"Code Here\n",
        "    建立你的神經網路\n",
        "    \"\"\"\n",
        "    input_layer = keras.layers.Input(input_shape)\n",
        "    \n",
        "    for i, n_units in enumerate(num_neurons):\n",
        "        if i == 0:\n",
        "            x = keras.layers.Dense(units=n_units,\n",
        "                                  activation=\"relu\",\n",
        "                                  name=f\"hidden_layer{str(i+1)}\")(input_layer)\n",
        "            x = BatchNormalization()(x)\n",
        "        else:\n",
        "            x = keras.layers.Dense(units=n_units,\n",
        "                                  activation=\"relu\",\n",
        "                                  name=f\"hidden_layer{str(i+1)}\")(x)\n",
        "            x = BatchNormalization()(x)\n",
        "    out = keras.layers.Dense(units=output_units,\n",
        "                               activation=\"softmax\",\n",
        "                               name=\"output\")(x)\n",
        "    model = keras.models.Model(inputs=[input_layer], outputs=[out])\n",
        "    return model"
      ],
      "execution_count": 0,
      "outputs": []
    },
    {
      "cell_type": "code",
      "metadata": {
        "id": "eMK_TJPpAXIT",
        "colab_type": "code",
        "colab": {}
      },
      "source": [
        "\"\"\"Code Here\n",
        "設定超參數\n",
        "\"\"\"\n",
        "LEARNING_RATE = 1e-3\n",
        "EPOCHS = 50\n",
        "BATCH_SIZE = 1024\n",
        "MOMENTUM = 0.95"
      ],
      "execution_count": 0,
      "outputs": []
    },
    {
      "cell_type": "code",
      "metadata": {
        "id": "msriZlA_AXIb",
        "colab_type": "code",
        "colab": {
          "base_uri": "https://localhost:8080/",
          "height": 1000
        },
        "outputId": "1675a7ea-3979-4aad-80a8-67a550d5df3d"
      },
      "source": [
        "# 載入 Callbacks\n",
        "\"\"\"Code Here\n",
        "設定 callbacks: model checkpoint\n",
        "\"\"\"\n",
        "from keras.callbacks import ModelCheckpoint\n",
        "\n",
        "\n",
        "\n",
        "results = {}\n",
        "\"\"\"Code Here\n",
        "撰寫你的訓練流程並將結果用 dictionary 紀錄\n",
        "\"\"\"\n",
        "for s in [\"only\", \"not_only\"]:\n",
        "    model = build_mlp(input_shape=x_train.shape[1:])\n",
        "    model.summary()\n",
        "    optimizer = keras.optimizers.SGD(lr=LEARNING_RATE, nesterov=True, momentum=MOMENTUM)\n",
        "    model.compile(loss=\"categorical_crossentropy\", metrics=[\"accuracy\"], optimizer=optimizer)\n",
        "\n",
        "    if s == \"only\":\n",
        "        model_ckpt = ModelCheckpoint(filepath=f\"./{s}.h5\",\n",
        "                                monitor=\"val_loss\",\n",
        "                                save_best_only=True)\n",
        "    else:\n",
        "        model_ckpt = ModelCheckpoint(filepath=f\"./{s}.h5\",\n",
        "                                monitor=\"val_loss\",\n",
        "                                save_best_only=False)\n",
        "\n",
        "# 沒寫進去, 只儲存參數, 要用load_weights使用。\n",
        "#     model_ckpt = ModelCheckpoint(filepath=\"./tmp.h5\", \n",
        "#                              monitor=\"val_loss\", \n",
        "#                              save_best_only=save_best,\n",
        "#                              save_weights_only=True)\n",
        "\n",
        "    model.fit(x_train, y_train, \n",
        "              epochs=EPOCHS, \n",
        "              batch_size=BATCH_SIZE, \n",
        "              validation_data=(x_test, y_test), \n",
        "              shuffle=True,\n",
        "              callbacks=[model_ckpt]\n",
        "             )\n",
        "\n",
        "    # Collect results\n",
        "    train_loss = model.history.history[\"loss\"]\n",
        "    valid_loss = model.history.history[\"val_loss\"]\n",
        "    train_acc = model.history.history[\"acc\"]\n",
        "    valid_acc = model.history.history[\"val_acc\"]\n",
        "    \n",
        "    results[s] = {'train-loss': train_loss,\n",
        "                 'valid-loss': valid_loss,\n",
        "                 'train-acc': train_acc,\n",
        "                 'valid-acc': valid_acc}"
      ],
      "execution_count": 16,
      "outputs": [
        {
          "output_type": "stream",
          "text": [
            "Model: \"model_3\"\n",
            "_________________________________________________________________\n",
            "Layer (type)                 Output Shape              Param #   \n",
            "=================================================================\n",
            "input_3 (InputLayer)         (None, 3072)              0         \n",
            "_________________________________________________________________\n",
            "hidden_layer1 (Dense)        (None, 512)               1573376   \n",
            "_________________________________________________________________\n",
            "batch_normalization_7 (Batch (None, 512)               2048      \n",
            "_________________________________________________________________\n",
            "hidden_layer2 (Dense)        (None, 256)               131328    \n",
            "_________________________________________________________________\n",
            "batch_normalization_8 (Batch (None, 256)               1024      \n",
            "_________________________________________________________________\n",
            "hidden_layer3 (Dense)        (None, 128)               32896     \n",
            "_________________________________________________________________\n",
            "batch_normalization_9 (Batch (None, 128)               512       \n",
            "_________________________________________________________________\n",
            "output (Dense)               (None, 10)                1290      \n",
            "=================================================================\n",
            "Total params: 1,742,474\n",
            "Trainable params: 1,740,682\n",
            "Non-trainable params: 1,792\n",
            "_________________________________________________________________\n",
            "Train on 50000 samples, validate on 10000 samples\n",
            "Epoch 1/50\n",
            "50000/50000 [==============================] - 10s 192us/step - loss: 2.2216 - acc: 0.2661 - val_loss: 2.0557 - val_acc: 0.3197\n",
            "Epoch 2/50\n",
            "50000/50000 [==============================] - 9s 171us/step - loss: 1.7452 - acc: 0.3890 - val_loss: 1.7895 - val_acc: 0.3887\n",
            "Epoch 3/50\n",
            "50000/50000 [==============================] - 9s 173us/step - loss: 1.6176 - acc: 0.4344 - val_loss: 1.6846 - val_acc: 0.4141\n",
            "Epoch 4/50\n",
            "50000/50000 [==============================] - 9s 175us/step - loss: 1.5451 - acc: 0.4568 - val_loss: 1.6276 - val_acc: 0.4347\n",
            "Epoch 5/50\n",
            "50000/50000 [==============================] - 9s 178us/step - loss: 1.4916 - acc: 0.4768 - val_loss: 1.5856 - val_acc: 0.4466\n",
            "Epoch 6/50\n",
            "50000/50000 [==============================] - 9s 183us/step - loss: 1.4462 - acc: 0.4934 - val_loss: 1.5651 - val_acc: 0.4508\n",
            "Epoch 7/50\n",
            "50000/50000 [==============================] - 9s 175us/step - loss: 1.4094 - acc: 0.5080 - val_loss: 1.5474 - val_acc: 0.4532\n",
            "Epoch 8/50\n",
            "50000/50000 [==============================] - 9s 174us/step - loss: 1.3748 - acc: 0.5207 - val_loss: 1.5322 - val_acc: 0.4648\n",
            "Epoch 9/50\n",
            "50000/50000 [==============================] - 8s 164us/step - loss: 1.3421 - acc: 0.5326 - val_loss: 1.5250 - val_acc: 0.4630\n",
            "Epoch 10/50\n",
            "50000/50000 [==============================] - 8s 169us/step - loss: 1.3131 - acc: 0.5433 - val_loss: 1.5041 - val_acc: 0.4685\n",
            "Epoch 11/50\n",
            "50000/50000 [==============================] - 9s 172us/step - loss: 1.2863 - acc: 0.5521 - val_loss: 1.4899 - val_acc: 0.4731\n",
            "Epoch 12/50\n",
            "50000/50000 [==============================] - 9s 172us/step - loss: 1.2589 - acc: 0.5634 - val_loss: 1.4852 - val_acc: 0.4741\n",
            "Epoch 13/50\n",
            "50000/50000 [==============================] - 9s 171us/step - loss: 1.2347 - acc: 0.5724 - val_loss: 1.4783 - val_acc: 0.4776\n",
            "Epoch 14/50\n",
            "50000/50000 [==============================] - 9s 172us/step - loss: 1.2104 - acc: 0.5818 - val_loss: 1.4700 - val_acc: 0.4815\n",
            "Epoch 15/50\n",
            "50000/50000 [==============================] - 8s 169us/step - loss: 1.1860 - acc: 0.5912 - val_loss: 1.4839 - val_acc: 0.4778\n",
            "Epoch 16/50\n",
            "50000/50000 [==============================] - 9s 172us/step - loss: 1.1634 - acc: 0.5997 - val_loss: 1.4622 - val_acc: 0.4825\n",
            "Epoch 17/50\n",
            "50000/50000 [==============================] - 8s 169us/step - loss: 1.1409 - acc: 0.6077 - val_loss: 1.4609 - val_acc: 0.4826\n",
            "Epoch 18/50\n",
            "50000/50000 [==============================] - 8s 169us/step - loss: 1.1184 - acc: 0.6162 - val_loss: 1.4683 - val_acc: 0.4818\n",
            "Epoch 19/50\n",
            "50000/50000 [==============================] - 9s 172us/step - loss: 1.0981 - acc: 0.6258 - val_loss: 1.4593 - val_acc: 0.4879\n",
            "Epoch 20/50\n",
            "50000/50000 [==============================] - 9s 173us/step - loss: 1.0762 - acc: 0.6318 - val_loss: 1.4633 - val_acc: 0.4876\n",
            "Epoch 21/50\n",
            "50000/50000 [==============================] - 9s 170us/step - loss: 1.0551 - acc: 0.6406 - val_loss: 1.4502 - val_acc: 0.4898\n",
            "Epoch 22/50\n",
            "50000/50000 [==============================] - 8s 170us/step - loss: 1.0334 - acc: 0.6481 - val_loss: 1.4496 - val_acc: 0.4925\n",
            "Epoch 23/50\n",
            "50000/50000 [==============================] - 9s 174us/step - loss: 1.0144 - acc: 0.6556 - val_loss: 1.4586 - val_acc: 0.4902\n",
            "Epoch 24/50\n",
            "50000/50000 [==============================] - 9s 173us/step - loss: 0.9940 - acc: 0.6656 - val_loss: 1.4550 - val_acc: 0.4893\n",
            "Epoch 25/50\n",
            "50000/50000 [==============================] - 9s 171us/step - loss: 0.9737 - acc: 0.6710 - val_loss: 1.4684 - val_acc: 0.4843\n",
            "Epoch 26/50\n",
            "50000/50000 [==============================] - 9s 173us/step - loss: 0.9523 - acc: 0.6814 - val_loss: 1.4647 - val_acc: 0.4905\n",
            "Epoch 27/50\n",
            "50000/50000 [==============================] - 9s 174us/step - loss: 0.9326 - acc: 0.6895 - val_loss: 1.4529 - val_acc: 0.4958\n",
            "Epoch 28/50\n",
            "50000/50000 [==============================] - 9s 174us/step - loss: 0.9127 - acc: 0.6965 - val_loss: 1.4914 - val_acc: 0.4828\n",
            "Epoch 29/50\n",
            "50000/50000 [==============================] - 9s 174us/step - loss: 0.8948 - acc: 0.7035 - val_loss: 1.4837 - val_acc: 0.4862\n",
            "Epoch 30/50\n",
            "50000/50000 [==============================] - 9s 175us/step - loss: 0.8757 - acc: 0.7109 - val_loss: 1.4849 - val_acc: 0.4916\n",
            "Epoch 31/50\n",
            "50000/50000 [==============================] - 9s 173us/step - loss: 0.8567 - acc: 0.7180 - val_loss: 1.4759 - val_acc: 0.4990\n",
            "Epoch 32/50\n",
            "50000/50000 [==============================] - 9s 172us/step - loss: 0.8366 - acc: 0.7263 - val_loss: 1.4929 - val_acc: 0.4939\n",
            "Epoch 33/50\n",
            "50000/50000 [==============================] - 9s 172us/step - loss: 0.8189 - acc: 0.7318 - val_loss: 1.5065 - val_acc: 0.4865\n",
            "Epoch 34/50\n",
            "50000/50000 [==============================] - 9s 173us/step - loss: 0.8006 - acc: 0.7417 - val_loss: 1.5014 - val_acc: 0.4878\n",
            "Epoch 35/50\n",
            "50000/50000 [==============================] - 9s 172us/step - loss: 0.7798 - acc: 0.7482 - val_loss: 1.5027 - val_acc: 0.4930\n",
            "Epoch 36/50\n",
            "50000/50000 [==============================] - 8s 170us/step - loss: 0.7614 - acc: 0.7551 - val_loss: 1.5075 - val_acc: 0.4898\n",
            "Epoch 37/50\n",
            "50000/50000 [==============================] - 9s 171us/step - loss: 0.7443 - acc: 0.7641 - val_loss: 1.5225 - val_acc: 0.4901\n",
            "Epoch 38/50\n",
            "50000/50000 [==============================] - 9s 170us/step - loss: 0.7248 - acc: 0.7705 - val_loss: 1.5332 - val_acc: 0.4944\n",
            "Epoch 39/50\n",
            "50000/50000 [==============================] - 8s 170us/step - loss: 0.7070 - acc: 0.7771 - val_loss: 1.5575 - val_acc: 0.4851\n",
            "Epoch 40/50\n",
            "50000/50000 [==============================] - 9s 172us/step - loss: 0.6889 - acc: 0.7851 - val_loss: 1.5385 - val_acc: 0.4911\n",
            "Epoch 41/50\n",
            "50000/50000 [==============================] - 9s 174us/step - loss: 0.6716 - acc: 0.7921 - val_loss: 1.5616 - val_acc: 0.4887\n",
            "Epoch 42/50\n",
            "50000/50000 [==============================] - 9s 174us/step - loss: 0.6539 - acc: 0.7998 - val_loss: 1.5646 - val_acc: 0.4895\n",
            "Epoch 43/50\n",
            "50000/50000 [==============================] - 9s 171us/step - loss: 0.6350 - acc: 0.8061 - val_loss: 1.5801 - val_acc: 0.4889\n",
            "Epoch 44/50\n",
            "50000/50000 [==============================] - 9s 172us/step - loss: 0.6168 - acc: 0.8127 - val_loss: 1.5985 - val_acc: 0.4841\n",
            "Epoch 45/50\n",
            "50000/50000 [==============================] - 9s 170us/step - loss: 0.5988 - acc: 0.8209 - val_loss: 1.5935 - val_acc: 0.4919\n",
            "Epoch 46/50\n",
            "50000/50000 [==============================] - 9s 173us/step - loss: 0.5823 - acc: 0.8264 - val_loss: 1.6314 - val_acc: 0.4834\n",
            "Epoch 47/50\n",
            "50000/50000 [==============================] - 9s 172us/step - loss: 0.5681 - acc: 0.8322 - val_loss: 1.6737 - val_acc: 0.4797\n",
            "Epoch 48/50\n",
            "50000/50000 [==============================] - 9s 170us/step - loss: 0.5511 - acc: 0.8373 - val_loss: 1.6280 - val_acc: 0.4876\n",
            "Epoch 49/50\n",
            "50000/50000 [==============================] - 9s 172us/step - loss: 0.5336 - acc: 0.8456 - val_loss: 1.6454 - val_acc: 0.4875\n",
            "Epoch 50/50\n",
            "50000/50000 [==============================] - 8s 167us/step - loss: 0.5189 - acc: 0.8512 - val_loss: 1.6740 - val_acc: 0.4874\n",
            "Model: \"model_4\"\n",
            "_________________________________________________________________\n",
            "Layer (type)                 Output Shape              Param #   \n",
            "=================================================================\n",
            "input_4 (InputLayer)         (None, 3072)              0         \n",
            "_________________________________________________________________\n",
            "hidden_layer1 (Dense)        (None, 512)               1573376   \n",
            "_________________________________________________________________\n",
            "batch_normalization_10 (Batc (None, 512)               2048      \n",
            "_________________________________________________________________\n",
            "hidden_layer2 (Dense)        (None, 256)               131328    \n",
            "_________________________________________________________________\n",
            "batch_normalization_11 (Batc (None, 256)               1024      \n",
            "_________________________________________________________________\n",
            "hidden_layer3 (Dense)        (None, 128)               32896     \n",
            "_________________________________________________________________\n",
            "batch_normalization_12 (Batc (None, 128)               512       \n",
            "_________________________________________________________________\n",
            "output (Dense)               (None, 10)                1290      \n",
            "=================================================================\n",
            "Total params: 1,742,474\n",
            "Trainable params: 1,740,682\n",
            "Non-trainable params: 1,792\n",
            "_________________________________________________________________\n",
            "Train on 50000 samples, validate on 10000 samples\n",
            "Epoch 1/50\n",
            "50000/50000 [==============================] - 9s 187us/step - loss: 2.2188 - acc: 0.2715 - val_loss: 2.1236 - val_acc: 0.3256\n",
            "Epoch 2/50\n",
            "50000/50000 [==============================] - 8s 169us/step - loss: 1.7508 - acc: 0.3915 - val_loss: 1.8358 - val_acc: 0.3742\n",
            "Epoch 3/50\n",
            "50000/50000 [==============================] - 9s 171us/step - loss: 1.6292 - acc: 0.4327 - val_loss: 1.6940 - val_acc: 0.4078\n",
            "Epoch 4/50\n",
            "50000/50000 [==============================] - 8s 166us/step - loss: 1.5567 - acc: 0.4598 - val_loss: 1.6554 - val_acc: 0.4156\n",
            "Epoch 5/50\n",
            "50000/50000 [==============================] - 9s 173us/step - loss: 1.5032 - acc: 0.4766 - val_loss: 1.6133 - val_acc: 0.4331\n",
            "Epoch 6/50\n",
            "50000/50000 [==============================] - 9s 172us/step - loss: 1.4563 - acc: 0.4932 - val_loss: 1.5751 - val_acc: 0.4462\n",
            "Epoch 7/50\n",
            "50000/50000 [==============================] - 9s 172us/step - loss: 1.4173 - acc: 0.5068 - val_loss: 1.5530 - val_acc: 0.4520\n",
            "Epoch 8/50\n",
            "50000/50000 [==============================] - 8s 169us/step - loss: 1.3828 - acc: 0.5192 - val_loss: 1.5402 - val_acc: 0.4617\n",
            "Epoch 9/50\n",
            "50000/50000 [==============================] - 9s 171us/step - loss: 1.3511 - acc: 0.5324 - val_loss: 1.5286 - val_acc: 0.4663\n",
            "Epoch 10/50\n",
            "50000/50000 [==============================] - 8s 168us/step - loss: 1.3203 - acc: 0.5437 - val_loss: 1.5183 - val_acc: 0.4678\n",
            "Epoch 11/50\n",
            "50000/50000 [==============================] - 8s 165us/step - loss: 1.2929 - acc: 0.5545 - val_loss: 1.4978 - val_acc: 0.4802\n",
            "Epoch 12/50\n",
            "50000/50000 [==============================] - 8s 166us/step - loss: 1.2646 - acc: 0.5635 - val_loss: 1.4922 - val_acc: 0.4759\n",
            "Epoch 13/50\n",
            "50000/50000 [==============================] - 8s 166us/step - loss: 1.2399 - acc: 0.5727 - val_loss: 1.4947 - val_acc: 0.4743\n",
            "Epoch 14/50\n",
            "50000/50000 [==============================] - 8s 164us/step - loss: 1.2151 - acc: 0.5828 - val_loss: 1.4931 - val_acc: 0.4776\n",
            "Epoch 15/50\n",
            "50000/50000 [==============================] - 9s 170us/step - loss: 1.1907 - acc: 0.5910 - val_loss: 1.4720 - val_acc: 0.4822\n",
            "Epoch 16/50\n",
            "50000/50000 [==============================] - 9s 172us/step - loss: 1.1670 - acc: 0.5998 - val_loss: 1.4638 - val_acc: 0.4841\n",
            "Epoch 17/50\n",
            "50000/50000 [==============================] - 9s 175us/step - loss: 1.1442 - acc: 0.6102 - val_loss: 1.4600 - val_acc: 0.4906\n",
            "Epoch 18/50\n",
            "50000/50000 [==============================] - 9s 173us/step - loss: 1.1215 - acc: 0.6182 - val_loss: 1.4665 - val_acc: 0.4850\n",
            "Epoch 19/50\n",
            "50000/50000 [==============================] - 9s 174us/step - loss: 1.0986 - acc: 0.6267 - val_loss: 1.4788 - val_acc: 0.4831\n",
            "Epoch 20/50\n",
            "50000/50000 [==============================] - 9s 173us/step - loss: 1.0766 - acc: 0.6351 - val_loss: 1.4737 - val_acc: 0.4886\n",
            "Epoch 21/50\n",
            "50000/50000 [==============================] - 9s 172us/step - loss: 1.0558 - acc: 0.6426 - val_loss: 1.4669 - val_acc: 0.4862\n",
            "Epoch 22/50\n",
            "50000/50000 [==============================] - 9s 174us/step - loss: 1.0332 - acc: 0.6508 - val_loss: 1.4783 - val_acc: 0.4889\n",
            "Epoch 23/50\n",
            "50000/50000 [==============================] - 9s 173us/step - loss: 1.0162 - acc: 0.6573 - val_loss: 1.4749 - val_acc: 0.4853\n",
            "Epoch 24/50\n",
            "50000/50000 [==============================] - 9s 175us/step - loss: 0.9936 - acc: 0.6659 - val_loss: 1.4632 - val_acc: 0.4935\n",
            "Epoch 25/50\n",
            "50000/50000 [==============================] - 9s 172us/step - loss: 0.9750 - acc: 0.6723 - val_loss: 1.4789 - val_acc: 0.4879\n",
            "Epoch 26/50\n",
            "50000/50000 [==============================] - 9s 172us/step - loss: 0.9531 - acc: 0.6818 - val_loss: 1.4682 - val_acc: 0.4951\n",
            "Epoch 27/50\n",
            "50000/50000 [==============================] - 9s 171us/step - loss: 0.9317 - acc: 0.6891 - val_loss: 1.4832 - val_acc: 0.4906\n",
            "Epoch 28/50\n",
            "50000/50000 [==============================] - 9s 170us/step - loss: 0.9152 - acc: 0.6945 - val_loss: 1.4891 - val_acc: 0.4943\n",
            "Epoch 29/50\n",
            "50000/50000 [==============================] - 9s 171us/step - loss: 0.8945 - acc: 0.7037 - val_loss: 1.4909 - val_acc: 0.4901\n",
            "Epoch 30/50\n",
            "50000/50000 [==============================] - 8s 169us/step - loss: 0.8747 - acc: 0.7105 - val_loss: 1.5045 - val_acc: 0.4878\n",
            "Epoch 31/50\n",
            "50000/50000 [==============================] - 9s 171us/step - loss: 0.8561 - acc: 0.7198 - val_loss: 1.5269 - val_acc: 0.4910\n",
            "Epoch 32/50\n",
            "50000/50000 [==============================] - 9s 174us/step - loss: 0.8354 - acc: 0.7262 - val_loss: 1.5032 - val_acc: 0.4960\n",
            "Epoch 33/50\n",
            "50000/50000 [==============================] - 9s 173us/step - loss: 0.8163 - acc: 0.7344 - val_loss: 1.5015 - val_acc: 0.4956\n",
            "Epoch 34/50\n",
            "50000/50000 [==============================] - 9s 171us/step - loss: 0.7948 - acc: 0.7423 - val_loss: 1.4961 - val_acc: 0.4965\n",
            "Epoch 35/50\n",
            "50000/50000 [==============================] - 9s 178us/step - loss: 0.7742 - acc: 0.7508 - val_loss: 1.5109 - val_acc: 0.4916\n",
            "Epoch 36/50\n",
            "50000/50000 [==============================] - 9s 176us/step - loss: 0.7578 - acc: 0.7578 - val_loss: 1.5192 - val_acc: 0.4944\n",
            "Epoch 37/50\n",
            "50000/50000 [==============================] - 9s 171us/step - loss: 0.7400 - acc: 0.7649 - val_loss: 1.5275 - val_acc: 0.4924\n",
            "Epoch 38/50\n",
            "50000/50000 [==============================] - 9s 172us/step - loss: 0.7216 - acc: 0.7732 - val_loss: 1.5343 - val_acc: 0.4919\n",
            "Epoch 39/50\n",
            "50000/50000 [==============================] - 8s 169us/step - loss: 0.7005 - acc: 0.7803 - val_loss: 1.5572 - val_acc: 0.4876\n",
            "Epoch 40/50\n",
            "50000/50000 [==============================] - 9s 176us/step - loss: 0.6832 - acc: 0.7884 - val_loss: 1.5638 - val_acc: 0.4891\n",
            "Epoch 41/50\n",
            "50000/50000 [==============================] - 9s 174us/step - loss: 0.6659 - acc: 0.7948 - val_loss: 1.5613 - val_acc: 0.4898\n",
            "Epoch 42/50\n",
            "50000/50000 [==============================] - 9s 172us/step - loss: 0.6461 - acc: 0.8032 - val_loss: 1.6099 - val_acc: 0.4743\n",
            "Epoch 43/50\n",
            "50000/50000 [==============================] - 8s 166us/step - loss: 0.6280 - acc: 0.8096 - val_loss: 1.5787 - val_acc: 0.4938\n",
            "Epoch 44/50\n",
            "50000/50000 [==============================] - 8s 166us/step - loss: 0.6102 - acc: 0.8147 - val_loss: 1.5956 - val_acc: 0.4915\n",
            "Epoch 45/50\n",
            "50000/50000 [==============================] - 9s 173us/step - loss: 0.5931 - acc: 0.8235 - val_loss: 1.6046 - val_acc: 0.4922\n",
            "Epoch 46/50\n",
            "50000/50000 [==============================] - 9s 171us/step - loss: 0.5764 - acc: 0.8307 - val_loss: 1.6209 - val_acc: 0.4953\n",
            "Epoch 47/50\n",
            "50000/50000 [==============================] - 9s 172us/step - loss: 0.5592 - acc: 0.8366 - val_loss: 1.6502 - val_acc: 0.4803\n",
            "Epoch 48/50\n",
            "50000/50000 [==============================] - 9s 170us/step - loss: 0.5429 - acc: 0.8437 - val_loss: 1.6377 - val_acc: 0.4911\n",
            "Epoch 49/50\n",
            "50000/50000 [==============================] - 9s 172us/step - loss: 0.5265 - acc: 0.8492 - val_loss: 1.6528 - val_acc: 0.4887\n",
            "Epoch 50/50\n",
            "50000/50000 [==============================] - 9s 173us/step - loss: 0.5093 - acc: 0.8569 - val_loss: 1.6682 - val_acc: 0.4911\n"
          ],
          "name": "stdout"
        }
      ]
    },
    {
      "cell_type": "code",
      "metadata": {
        "scrolled": true,
        "id": "de9mB87nAXIi",
        "colab_type": "code",
        "colab": {
          "base_uri": "https://localhost:8080/",
          "height": 1000
        },
        "outputId": "4ab7376b-a21a-4248-a9a2-95f194321276"
      },
      "source": [
        "import matplotlib.pyplot as plt\n",
        "%matplotlib inline\n",
        "\"\"\"Code Here\n",
        "將結果繪出\n",
        "\"\"\"\n",
        "# color_bar = [\"r\", \"g\", \"b\", \"y\", \"m\", \"k\"]\n",
        "\n",
        "# plt.figure(figsize=(8,6))\n",
        "# for i, cond in enumerate(results.keys()):\n",
        "#     plt.plot(range(len(results[cond]['train-loss'])),results[cond]['train-loss'], '-', label=cond, color=color_bar[i])\n",
        "#     plt.plot(range(len(results[cond]['valid-loss'])),results[cond]['valid-loss'], '--', label=cond, color=color_bar[i])\n",
        "# plt.title(\"Loss\")\n",
        "# plt.legend()\n",
        "# plt.show()\n",
        "\n",
        "# plt.figure(figsize=(8,6))\n",
        "# for i, cond in enumerate(results.keys()):\n",
        "#     plt.plot(range(len(results[cond]['train-acc'])),results[cond]['train-acc'], '-', label=cond, color=color_bar[i])\n",
        "#     plt.plot(range(len(results[cond]['valid-acc'])),results[cond]['valid-acc'], '--', label=cond, color=color_bar[i])\n",
        "# plt.title(\"Accuracy\")\n",
        "# plt.legend()\n",
        "# plt.show()\n",
        "\n",
        "for s in [\"only\", \"not_only\"]:\n",
        "    # Load back\n",
        "    model = keras.models.load_model(f\"./{s}.h5\")\n",
        "    loss_loadback, acc_loadback = model.evaluate(x_test, y_test)\n",
        "\n",
        "    plt.plot(range(len(results[s]['train-loss'])), results[s]['train-loss'], label=\"train loss\")\n",
        "    plt.plot(range(len(results[s]['valid-loss'])), results[s]['valid-loss'], label=\"valid loss\")\n",
        "    plt.hlines(y=loss_loadback, xmin=0, xmax=len(results[s]['train-loss']), colors='r', linestyles='--')\n",
        "    plt.legend()\n",
        "    plt.title(\"Loss\")\n",
        "    plt.show()\n",
        "\n",
        "    plt.plot(range(len(results[s]['train-acc'])), results[s]['train-acc'], label=\"train accuracy\")\n",
        "    plt.plot(range(len(results[s]['valid-acc'])), results[s]['valid-acc'], label=\"valid accuracy\")\n",
        "    plt.hlines(y=acc_loadback, xmin=0, xmax=len(results[s]['train-acc']), colors='r', linestyles='--')\n",
        "    plt.legend()\n",
        "    plt.title(\"Accuracy\")\n",
        "    plt.show()"
      ],
      "execution_count": 17,
      "outputs": [
        {
          "output_type": "stream",
          "text": [
            "10000/10000 [==============================] - 2s 171us/step\n"
          ],
          "name": "stdout"
        },
        {
          "output_type": "display_data",
          "data": {
            "image/png": "[encoded data removed]",
            "text/plain": [
              "<Figure size 432x288 with 1 Axes>"
            ]
          },
          "metadata": {
            "tags": []
          }
        },
        {
          "output_type": "display_data",
          "data": {
            "image/png": "[encoded data removed]",
            "text/plain": [
              "<Figure size 432x288 with 1 Axes>"
            ]
          },
          "metadata": {
            "tags": []
          }
        },
        {
          "output_type": "stream",
          "text": [
            "10000/10000 [==============================] - 2s 162us/step\n"
          ],
          "name": "stdout"
        },
        {
          "output_type": "display_data",
          "data": {
            "image/png": "[encoded data removed]",
            "text/plain": [
              "<Figure size 432x288 with 1 Axes>"
            ]
          },
          "metadata": {
            "tags": []
          }
        },
        {
          "output_type": "display_data",
          "data": {
            "image/png": "[encoded data removed]",
            "text/plain": [
              "<Figure size 432x288 with 1 Axes>"
            ]
          },
          "metadata": {
            "tags": []
          }
        }
      ]
    },
    {
      "cell_type": "code",
      "metadata": {
        "id": "GLvVi1ZIAXIn",
        "colab_type": "code",
        "colab": {}
      },
      "source": [
        ""
      ],
      "execution_count": 0,
      "outputs": []
    }
  ]
}