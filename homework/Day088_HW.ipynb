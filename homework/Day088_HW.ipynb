{
 "cells": [
  {
   "cell_type": "markdown",
   "metadata": {},
   "source": [
    "## Work\n",
    "1. 請嘗試寫一個 callback 用來記錄各類別在訓練過程中，對驗證集的 True Positive 與 True Negative"
   ]
  },
  {
   "cell_type": "code",
   "execution_count": 1,
   "metadata": {},
   "outputs": [
    {
     "name": "stderr",
     "output_type": "stream",
     "text": [
      "Using TensorFlow backend.\n",
      "C:\\Users\\aband\\Anaconda3\\lib\\importlib\\_bootstrap.py:219: RuntimeWarning: numpy.ufunc size changed, may indicate binary incompatibility. Expected 192 from C header, got 216 from PyObject\n",
      "  return f(*args, **kwds)\n",
      "C:\\Users\\aband\\Anaconda3\\lib\\importlib\\_bootstrap.py:219: RuntimeWarning: numpy.ufunc size changed, may indicate binary incompatibility. Expected 192 from C header, got 216 from PyObject\n",
      "  return f(*args, **kwds)\n"
     ]
    }
   ],
   "source": [
    "import os\n",
    "import keras\n",
    "\n",
    "# Disable GPU\n",
    "os.environ[\"CUDA_VISIBLE_DEVICES\"] = \"\""
   ]
  },
  {
   "cell_type": "code",
   "execution_count": 2,
   "metadata": {},
   "outputs": [],
   "source": [
    "train, test = keras.datasets.cifar10.load_data()"
   ]
  },
  {
   "cell_type": "code",
   "execution_count": 3,
   "metadata": {},
   "outputs": [],
   "source": [
    "## 資料前處理\n",
    "def preproc_x(x, flatten=True):\n",
    "    x = x / 255.\n",
    "    if flatten:\n",
    "        x = x.reshape((len(x), -1))\n",
    "    return x\n",
    "\n",
    "def preproc_y(y, num_classes=10):\n",
    "    if y.shape[-1] == 1:\n",
    "        y = keras.utils.to_categorical(y, num_classes)\n",
    "    return y    "
   ]
  },
  {
   "cell_type": "code",
   "execution_count": 4,
   "metadata": {},
   "outputs": [],
   "source": [
    "x_train, y_train = train\n",
    "x_test, y_test = test\n",
    "\n",
    "# Preproc the inputs\n",
    "x_train = preproc_x(x_train)\n",
    "x_test = preproc_x(x_test)\n",
    "\n",
    "# Preprc the outputs\n",
    "y_train = preproc_y(y_train)\n",
    "y_test = preproc_y(y_test)"
   ]
  },
  {
   "cell_type": "code",
   "execution_count": 5,
   "metadata": {},
   "outputs": [],
   "source": [
    "from keras.layers import BatchNormalization\n",
    "def build_mlp(input_shape, output_units=10, num_neurons=[256, 256, 256]):\n",
    "    \"\"\"Code Here\n",
    "    建立你的神經網路\n",
    "    \"\"\"\n",
    "    input_layer = keras.layers.Input(input_shape)\n",
    "    \n",
    "    for i, n_units in enumerate(num_neurons):\n",
    "        if i == 0:\n",
    "            x = keras.layers.Dense(units=n_units, \n",
    "                                   activation=\"relu\", \n",
    "                                   name=\"hidden_layer\"+str(i+1))(input_layer)\n",
    "            x = BatchNormalization()(x)\n",
    "        else:\n",
    "            x = keras.layers.Dense(units=n_units, \n",
    "                                   activation=\"relu\", \n",
    "                                   name=\"hidden_layer\"+str(i+1))(x)\n",
    "            x = BatchNormalization()(x)\n",
    "    \n",
    "    out = keras.layers.Dense(units=output_units, activation=\"softmax\", name=\"output\")(x)\n",
    "    \n",
    "    model = keras.models.Model(inputs=[input_layer], outputs=[out])\n",
    "    return model"
   ]
  },
  {
   "cell_type": "code",
   "execution_count": 6,
   "metadata": {},
   "outputs": [],
   "source": [
    "## 超參數設定\n",
    "LEARNING_RATE = 1e-3\n",
    "EPOCHS = 25\n",
    "BATCH_SIZE = 1024\n",
    "MOMENTUM = 0.95"
   ]
  },
  {
   "cell_type": "code",
   "execution_count": 8,
   "metadata": {},
   "outputs": [],
   "source": [
    "# 載入 Callbacks\n",
    "from keras.callbacks import Callback\n",
    "from sklearn.metrics import confusion_matrix\n",
    "\n",
    "# Record_fp_tp\n",
    "class Record_tp_tn(Callback):\n",
    "    \"\"\"Code Here\n",
    "    撰寫一個紀錄 ture positive 與 true negative 數量的 callbacks    \n",
    "    \"\"\"\n",
    "    def on_train_begin(self, epoch, logs = {}):\n",
    "        logs = logs or {}\n",
    "        record_items = [\"val_auc\", \"val_f1sc\", \"val_fp\", \"val_fn\", \"val_tp\", \"val_tn\"]\n",
    "        for i in record_items:\n",
    "            if i not in self.params['metrics']:\n",
    "                self.params['metrics'].append(i)\n",
    "    \n",
    "    def on_epoch_end(self, epoch, logs = {}, thres=0.5):\n",
    "        logs = logs or {}\n",
    "        y_true = self.validation_data[1]#.argmax(axis = 1)\n",
    "        y_pred = self.model.predict(self.validation_data[0])\n",
    "        #y_pred = (y_pred[:, 1] >= thres) * 1\n",
    "        \n",
    "        myround = lambda x: 1 if x >= 0.5 else 0\n",
    "        y_true = [myround(x) for x in y_true.ravel()]\n",
    "        y_pred = [myround(x) for x in y_pred.ravel()]\n",
    "        \n",
    "        tn, fp, fn, tp = confusion_matrix(y_true = y_true, y_pred = y_pred).ravel()\n",
    "        logs[\"val_tp\"] = tp\n",
    "        logs[\"val_tn\"] = tn\n",
    "        \n",
    "rec_tptn = Record_tp_tn()"
   ]
  },
  {
   "cell_type": "code",
   "execution_count": 9,
   "metadata": {
    "scrolled": true
   },
   "outputs": [
    {
     "name": "stdout",
     "output_type": "stream",
     "text": [
      "Model: \"model_1\"\n",
      "_________________________________________________________________\n",
      "Layer (type)                 Output Shape              Param #   \n",
      "=================================================================\n",
      "input_1 (InputLayer)         (None, 3072)              0         \n",
      "_________________________________________________________________\n",
      "hidden_layer1 (Dense)        (None, 256)               786688    \n",
      "_________________________________________________________________\n",
      "batch_normalization_1 (Batch (None, 256)               1024      \n",
      "_________________________________________________________________\n",
      "hidden_layer2 (Dense)        (None, 256)               65792     \n",
      "_________________________________________________________________\n",
      "batch_normalization_2 (Batch (None, 256)               1024      \n",
      "_________________________________________________________________\n",
      "hidden_layer3 (Dense)        (None, 256)               65792     \n",
      "_________________________________________________________________\n",
      "batch_normalization_3 (Batch (None, 256)               1024      \n",
      "_________________________________________________________________\n",
      "output (Dense)               (None, 10)                2570      \n",
      "=================================================================\n",
      "Total params: 923,914\n",
      "Trainable params: 922,378\n",
      "Non-trainable params: 1,536\n",
      "_________________________________________________________________\n",
      "Train on 50000 samples, validate on 10000 samples\n",
      "Epoch 1/25\n",
      "50000/50000 [==============================] - 10s 201us/step - loss: 2.2294 - accuracy: 0.2652 - val_loss: 2.1280 - val_accuracy: 0.1924\n",
      "Epoch 2/25\n",
      "50000/50000 [==============================] - 9s 174us/step - loss: 1.7599 - accuracy: 0.3844 - val_loss: 1.9635 - val_accuracy: 0.3062\n",
      "Epoch 3/25\n",
      "50000/50000 [==============================] - 8s 169us/step - loss: 1.6340 - accuracy: 0.4253 - val_loss: 1.8408 - val_accuracy: 0.3771\n",
      "Epoch 4/25\n",
      "50000/50000 [==============================] - 8s 165us/step - loss: 1.5615 - accuracy: 0.4514 - val_loss: 1.7380 - val_accuracy: 0.3852\n",
      "Epoch 5/25\n",
      "50000/50000 [==============================] - 9s 175us/step - loss: 1.5071 - accuracy: 0.4721 - val_loss: 1.6450 - val_accuracy: 0.4268\n",
      "Epoch 6/25\n",
      "50000/50000 [==============================] - 9s 177us/step - loss: 1.4638 - accuracy: 0.4869 - val_loss: 1.5773 - val_accuracy: 0.4395\n",
      "Epoch 7/25\n",
      "50000/50000 [==============================] - 9s 177us/step - loss: 1.4274 - accuracy: 0.5004 - val_loss: 1.5421 - val_accuracy: 0.4536\n",
      "Epoch 8/25\n",
      "50000/50000 [==============================] - 8s 167us/step - loss: 1.3947 - accuracy: 0.5119 - val_loss: 1.5192 - val_accuracy: 0.4593\n",
      "Epoch 9/25\n",
      "50000/50000 [==============================] - 9s 177us/step - loss: 1.3649 - accuracy: 0.5213 - val_loss: 1.4971 - val_accuracy: 0.4726\n",
      "Epoch 10/25\n",
      "50000/50000 [==============================] - 8s 159us/step - loss: 1.3387 - accuracy: 0.5310 - val_loss: 1.5034 - val_accuracy: 0.4643\n",
      "Epoch 11/25\n",
      "50000/50000 [==============================] - 8s 165us/step - loss: 1.3142 - accuracy: 0.5404 - val_loss: 1.4933 - val_accuracy: 0.4690\n",
      "Epoch 12/25\n",
      "50000/50000 [==============================] - 9s 171us/step - loss: 1.2906 - accuracy: 0.5498 - val_loss: 1.4706 - val_accuracy: 0.4796\n",
      "Epoch 13/25\n",
      "50000/50000 [==============================] - 9s 174us/step - loss: 1.2678 - accuracy: 0.5578 - val_loss: 1.4688 - val_accuracy: 0.4774\n",
      "Epoch 14/25\n",
      "50000/50000 [==============================] - 9s 178us/step - loss: 1.2455 - accuracy: 0.5656 - val_loss: 1.4528 - val_accuracy: 0.4798\n",
      "Epoch 15/25\n",
      "50000/50000 [==============================] - 9s 178us/step - loss: 1.2249 - accuracy: 0.5731 - val_loss: 1.4699 - val_accuracy: 0.4781\n",
      "Epoch 16/25\n",
      "50000/50000 [==============================] - 8s 151us/step - loss: 1.2061 - accuracy: 0.5810 - val_loss: 1.4607 - val_accuracy: 0.4846\n",
      "Epoch 17/25\n",
      "50000/50000 [==============================] - 8s 165us/step - loss: 1.1851 - accuracy: 0.5897 - val_loss: 1.4513 - val_accuracy: 0.4864\n",
      "Epoch 18/25\n",
      "50000/50000 [==============================] - 9s 175us/step - loss: 1.1670 - accuracy: 0.5953 - val_loss: 1.4547 - val_accuracy: 0.4861\n",
      "Epoch 19/25\n",
      "50000/50000 [==============================] - 8s 157us/step - loss: 1.1487 - accuracy: 0.6025 - val_loss: 1.4468 - val_accuracy: 0.4939\n",
      "Epoch 20/25\n",
      "50000/50000 [==============================] - 9s 178us/step - loss: 1.1283 - accuracy: 0.6097 - val_loss: 1.4420 - val_accuracy: 0.4919\n",
      "Epoch 21/25\n",
      "50000/50000 [==============================] - 9s 178us/step - loss: 1.1118 - accuracy: 0.6166 - val_loss: 1.4378 - val_accuracy: 0.4909\n",
      "Epoch 22/25\n",
      "50000/50000 [==============================] - 9s 172us/step - loss: 1.0957 - accuracy: 0.6213 - val_loss: 1.4453 - val_accuracy: 0.4911\n",
      "Epoch 23/25\n",
      "50000/50000 [==============================] - 9s 171us/step - loss: 1.0764 - accuracy: 0.6312 - val_loss: 1.4509 - val_accuracy: 0.4924\n",
      "Epoch 24/25\n",
      "50000/50000 [==============================] - 9s 182us/step - loss: 1.0612 - accuracy: 0.6342 - val_loss: 1.4441 - val_accuracy: 0.4925\n",
      "Epoch 25/25\n",
      "50000/50000 [==============================] - 9s 178us/step - loss: 1.0437 - accuracy: 0.6434 - val_loss: 1.4439 - val_accuracy: 0.4965\n"
     ]
    }
   ],
   "source": [
    "model = build_mlp(input_shape=x_train.shape[1:])\n",
    "model.summary()\n",
    "optimizer = keras.optimizers.SGD(lr=LEARNING_RATE, nesterov=True, momentum=MOMENTUM)\n",
    "model.compile(loss=\"categorical_crossentropy\", metrics=[\"accuracy\"], optimizer=optimizer)\n",
    "\n",
    "\"\"\"Code Here\n",
    "將 callbacks 放入模型訓練流程中\n",
    "\"\"\"\n",
    "model.fit(x_train, y_train, \n",
    "          epochs=EPOCHS, \n",
    "          batch_size=BATCH_SIZE, \n",
    "          validation_data=(x_test, y_test), \n",
    "          shuffle=True,\n",
    "          callbacks=[rec_tptn])\n",
    "\n",
    "# Collect results\n",
    "train_loss = model.history.history[\"loss\"]\n",
    "valid_loss = model.history.history[\"val_loss\"]\n",
    "train_acc = model.history.history[\"accuracy\"]\n",
    "valid_acc = model.history.history[\"val_accuracy\"]\n",
    "\n",
    "\"\"\"Code Here\n",
    "將 tp/tn 從訓練完的模型中取出\n",
    "\"\"\"\n",
    "valid_tp = model.history.history[\"val_tp\"]\n",
    "valid_tn = model.history.history[\"val_tn\"]"
   ]
  },
  {
   "cell_type": "code",
   "execution_count": 10,
   "metadata": {},
   "outputs": [
    {
     "data": {
      "image/png": "[encoded data removed]",
      "text/plain": [
       "<Figure size 432x288 with 1 Axes>"
      ]
     },
     "metadata": {
      "needs_background": "light"
     },
     "output_type": "display_data"
    },
    {
     "data": {
      "image/png": "[encoded data removed]",
      "text/plain": [
       "<Figure size 432x288 with 1 Axes>"
      ]
     },
     "metadata": {
      "needs_background": "light"
     },
     "output_type": "display_data"
    },
    {
     "data": {
      "image/png": "[encoded data removed]",
      "text/plain": [
       "<Figure size 432x288 with 1 Axes>"
      ]
     },
     "metadata": {
      "needs_background": "light"
     },
     "output_type": "display_data"
    }
   ],
   "source": [
    "import matplotlib.pyplot as plt\n",
    "%matplotlib inline\n",
    "\n",
    "plt.plot(range(len(train_loss)), train_loss, label=\"train loss\")\n",
    "plt.plot(range(len(valid_loss)), valid_loss, label=\"valid loss\")\n",
    "plt.legend()\n",
    "plt.title(\"Loss\")\n",
    "plt.show()\n",
    "\n",
    "plt.plot(range(len(train_acc)), train_acc, label=\"train accuracy\")\n",
    "plt.plot(range(len(valid_acc)), valid_acc, label=\"valid accuracy\")\n",
    "plt.legend()\n",
    "plt.title(\"Accuracy\")\n",
    "plt.show()\n",
    "\n",
    "plt.plot(range(len(valid_tp)), valid_tp, label=\"valid tp\", color=\"navy\")\n",
    "plt.plot(range(len(valid_tn)), valid_tn, label=\"valid tn\", color=\"red\")\n",
    "plt.legend()\n",
    "plt.title(\"True positives and True Negatives\")\n",
    "plt.show()\n"
   ]
  },
  {
   "cell_type": "code",
   "execution_count": null,
   "metadata": {},
   "outputs": [],
   "source": []
  },
  {
   "cell_type": "code",
   "execution_count": null,
   "metadata": {},
   "outputs": [],
   "source": []
  }
 ],
 "metadata": {
  "kernelspec": {
   "display_name": "Python 3",
   "language": "python",
   "name": "python3"
  },
  "language_info": {
   "codemirror_mode": {
    "name": "ipython",
    "version": 3
   },
   "file_extension": ".py",
   "mimetype": "text/x-python",
   "name": "python",
   "nbconvert_exporter": "python",
   "pygments_lexer": "ipython3",
   "version": "3.7.3"
  }
 },
 "nbformat": 4,
 "nbformat_minor": 2
}
